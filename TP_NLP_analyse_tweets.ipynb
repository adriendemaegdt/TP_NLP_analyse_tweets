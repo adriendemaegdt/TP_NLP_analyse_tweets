{
  "nbformat": 4,
  "nbformat_minor": 0,
  "metadata": {
    "colab": {
      "name": "TP_NLP_analyse_tweets.ipynb",
      "provenance": [],
      "collapsed_sections": []
    },
    "kernelspec": {
      "name": "python3",
      "display_name": "Python 3"
    }
  },
  "cells": [
    {
      "cell_type": "markdown",
      "metadata": {
        "id": "_x3c-ePP0jZG"
      },
      "source": [
        "L'enjeu de ce TP est de pouvoir prédire l'auteur d'un tweet basé sur les historiques de publications des potentiels auteurs. "
      ]
    },
    {
      "cell_type": "markdown",
      "metadata": {
        "id": "RII9vVrm1bLG"
      },
      "source": [
        "## **1. Installation des packages**"
      ]
    },
    {
      "cell_type": "code",
      "metadata": {
        "id": "WptkukJYK4ur",
        "colab": {
          "base_uri": "https://localhost:8080/"
        },
        "outputId": "2a24f6e5-da9d-41cd-f597-f0a9282e3d9f"
      },
      "source": [
        "!pip install scattertext\n",
        "!pip install spacy\n",
        "!pip install nltk\n",
        "!pip install emot"
      ],
      "execution_count": null,
      "outputs": [
        {
          "output_type": "stream",
          "text": [
            "Collecting scattertext\n",
            "\u001b[?25l  Downloading https://files.pythonhosted.org/packages/c3/63/ad2427520881539ba2a3308b5d2c96653d105c8871a0236fc8b988f6e4ca/scattertext-0.1.0.0-py3-none-any.whl (7.3MB)\n",
            "\u001b[K     |████████████████████████████████| 7.3MB 9.4MB/s \n",
            "\u001b[?25hRequirement already satisfied: numpy in /usr/local/lib/python3.6/dist-packages (from scattertext) (1.19.5)\n",
            "Requirement already satisfied: scipy in /usr/local/lib/python3.6/dist-packages (from scattertext) (1.4.1)\n",
            "Requirement already satisfied: statsmodels in /usr/local/lib/python3.6/dist-packages (from scattertext) (0.10.2)\n",
            "Collecting mock\n",
            "  Downloading https://files.pythonhosted.org/packages/5c/03/b7e605db4a57c0f6fba744b11ef3ddf4ddebcada35022927a2b5fc623fdf/mock-4.0.3-py3-none-any.whl\n",
            "Requirement already satisfied: pandas in /usr/local/lib/python3.6/dist-packages (from scattertext) (1.1.5)\n",
            "Requirement already satisfied: six in /usr/local/lib/python3.6/dist-packages (from scattertext) (1.15.0)\n",
            "Collecting flashtext\n",
            "  Downloading https://files.pythonhosted.org/packages/81/d8/2cd0656eae456d615c2f1efbcae8dfca2cb871a31f34ba8925aba47d5e09/flashtext-2.7.tar.gz\n",
            "Requirement already satisfied: scikit-learn in /usr/local/lib/python3.6/dist-packages (from scattertext) (0.22.2.post1)\n",
            "Requirement already satisfied: patsy>=0.4.0 in /usr/local/lib/python3.6/dist-packages (from statsmodels->scattertext) (0.5.1)\n",
            "Requirement already satisfied: python-dateutil>=2.7.3 in /usr/local/lib/python3.6/dist-packages (from pandas->scattertext) (2.8.1)\n",
            "Requirement already satisfied: pytz>=2017.2 in /usr/local/lib/python3.6/dist-packages (from pandas->scattertext) (2018.9)\n",
            "Requirement already satisfied: joblib>=0.11 in /usr/local/lib/python3.6/dist-packages (from scikit-learn->scattertext) (1.0.0)\n",
            "Building wheels for collected packages: flashtext\n",
            "  Building wheel for flashtext (setup.py) ... \u001b[?25l\u001b[?25hdone\n",
            "  Created wheel for flashtext: filename=flashtext-2.7-py2.py3-none-any.whl size=9299 sha256=7bf5dc9bea6cb6100092493e9c07c129bc98b1359d731458114acd6dc6c29e34\n",
            "  Stored in directory: /root/.cache/pip/wheels/37/db/d7/fe74f7cb8e5c3afed90fe6f4967c933a6f13d81ab6b3d3128c\n",
            "Successfully built flashtext\n",
            "Installing collected packages: mock, flashtext, scattertext\n",
            "Successfully installed flashtext-2.7 mock-4.0.3 scattertext-0.1.0.0\n",
            "Requirement already satisfied: spacy in /usr/local/lib/python3.6/dist-packages (2.2.4)\n",
            "Requirement already satisfied: tqdm<5.0.0,>=4.38.0 in /usr/local/lib/python3.6/dist-packages (from spacy) (4.41.1)\n",
            "Requirement already satisfied: plac<1.2.0,>=0.9.6 in /usr/local/lib/python3.6/dist-packages (from spacy) (1.1.3)\n",
            "Requirement already satisfied: blis<0.5.0,>=0.4.0 in /usr/local/lib/python3.6/dist-packages (from spacy) (0.4.1)\n",
            "Requirement already satisfied: requests<3.0.0,>=2.13.0 in /usr/local/lib/python3.6/dist-packages (from spacy) (2.23.0)\n",
            "Requirement already satisfied: setuptools in /usr/local/lib/python3.6/dist-packages (from spacy) (53.0.0)\n",
            "Requirement already satisfied: srsly<1.1.0,>=1.0.2 in /usr/local/lib/python3.6/dist-packages (from spacy) (1.0.5)\n",
            "Requirement already satisfied: wasabi<1.1.0,>=0.4.0 in /usr/local/lib/python3.6/dist-packages (from spacy) (0.8.2)\n",
            "Requirement already satisfied: murmurhash<1.1.0,>=0.28.0 in /usr/local/lib/python3.6/dist-packages (from spacy) (1.0.5)\n",
            "Requirement already satisfied: preshed<3.1.0,>=3.0.2 in /usr/local/lib/python3.6/dist-packages (from spacy) (3.0.5)\n",
            "Requirement already satisfied: thinc==7.4.0 in /usr/local/lib/python3.6/dist-packages (from spacy) (7.4.0)\n",
            "Requirement already satisfied: numpy>=1.15.0 in /usr/local/lib/python3.6/dist-packages (from spacy) (1.19.5)\n",
            "Requirement already satisfied: cymem<2.1.0,>=2.0.2 in /usr/local/lib/python3.6/dist-packages (from spacy) (2.0.5)\n",
            "Requirement already satisfied: catalogue<1.1.0,>=0.0.7 in /usr/local/lib/python3.6/dist-packages (from spacy) (1.0.0)\n",
            "Requirement already satisfied: urllib3!=1.25.0,!=1.25.1,<1.26,>=1.21.1 in /usr/local/lib/python3.6/dist-packages (from requests<3.0.0,>=2.13.0->spacy) (1.24.3)\n",
            "Requirement already satisfied: idna<3,>=2.5 in /usr/local/lib/python3.6/dist-packages (from requests<3.0.0,>=2.13.0->spacy) (2.10)\n",
            "Requirement already satisfied: certifi>=2017.4.17 in /usr/local/lib/python3.6/dist-packages (from requests<3.0.0,>=2.13.0->spacy) (2020.12.5)\n",
            "Requirement already satisfied: chardet<4,>=3.0.2 in /usr/local/lib/python3.6/dist-packages (from requests<3.0.0,>=2.13.0->spacy) (3.0.4)\n",
            "Requirement already satisfied: importlib-metadata>=0.20; python_version < \"3.8\" in /usr/local/lib/python3.6/dist-packages (from catalogue<1.1.0,>=0.0.7->spacy) (3.4.0)\n",
            "Requirement already satisfied: typing-extensions>=3.6.4; python_version < \"3.8\" in /usr/local/lib/python3.6/dist-packages (from importlib-metadata>=0.20; python_version < \"3.8\"->catalogue<1.1.0,>=0.0.7->spacy) (3.7.4.3)\n",
            "Requirement already satisfied: zipp>=0.5 in /usr/local/lib/python3.6/dist-packages (from importlib-metadata>=0.20; python_version < \"3.8\"->catalogue<1.1.0,>=0.0.7->spacy) (3.4.0)\n",
            "Requirement already satisfied: nltk in /usr/local/lib/python3.6/dist-packages (3.2.5)\n",
            "Requirement already satisfied: six in /usr/local/lib/python3.6/dist-packages (from nltk) (1.15.0)\n",
            "Collecting emot\n",
            "  Downloading https://files.pythonhosted.org/packages/49/07/20001ade19873de611b7b66a4d5e5aabbf190d65abea337d5deeaa2bc3de/emot-2.1-py3-none-any.whl\n",
            "Installing collected packages: emot\n",
            "Successfully installed emot-2.1\n"
          ],
          "name": "stdout"
        }
      ]
    },
    {
      "cell_type": "code",
      "metadata": {
        "id": "63W-DuD0keX3",
        "colab": {
          "base_uri": "https://localhost:8080/"
        },
        "outputId": "d591e47d-fbaf-43ec-d455-233c8dfe0e0b"
      },
      "source": [
        "!python -m spacy download fr_core_news_md"
      ],
      "execution_count": null,
      "outputs": [
        {
          "output_type": "stream",
          "text": [
            "Collecting fr_core_news_md==2.2.5\n",
            "\u001b[?25l  Downloading https://github.com/explosion/spacy-models/releases/download/fr_core_news_md-2.2.5/fr_core_news_md-2.2.5.tar.gz (88.6MB)\n",
            "\u001b[K     |████████████████████████████████| 88.6MB 1.3MB/s \n",
            "\u001b[?25hRequirement already satisfied: spacy>=2.2.2 in /usr/local/lib/python3.6/dist-packages (from fr_core_news_md==2.2.5) (2.2.4)\n",
            "Requirement already satisfied: numpy>=1.15.0 in /usr/local/lib/python3.6/dist-packages (from spacy>=2.2.2->fr_core_news_md==2.2.5) (1.19.5)\n",
            "Requirement already satisfied: murmurhash<1.1.0,>=0.28.0 in /usr/local/lib/python3.6/dist-packages (from spacy>=2.2.2->fr_core_news_md==2.2.5) (1.0.5)\n",
            "Requirement already satisfied: thinc==7.4.0 in /usr/local/lib/python3.6/dist-packages (from spacy>=2.2.2->fr_core_news_md==2.2.5) (7.4.0)\n",
            "Requirement already satisfied: setuptools in /usr/local/lib/python3.6/dist-packages (from spacy>=2.2.2->fr_core_news_md==2.2.5) (53.0.0)\n",
            "Requirement already satisfied: requests<3.0.0,>=2.13.0 in /usr/local/lib/python3.6/dist-packages (from spacy>=2.2.2->fr_core_news_md==2.2.5) (2.23.0)\n",
            "Requirement already satisfied: cymem<2.1.0,>=2.0.2 in /usr/local/lib/python3.6/dist-packages (from spacy>=2.2.2->fr_core_news_md==2.2.5) (2.0.5)\n",
            "Requirement already satisfied: plac<1.2.0,>=0.9.6 in /usr/local/lib/python3.6/dist-packages (from spacy>=2.2.2->fr_core_news_md==2.2.5) (1.1.3)\n",
            "Requirement already satisfied: wasabi<1.1.0,>=0.4.0 in /usr/local/lib/python3.6/dist-packages (from spacy>=2.2.2->fr_core_news_md==2.2.5) (0.8.2)\n",
            "Requirement already satisfied: catalogue<1.1.0,>=0.0.7 in /usr/local/lib/python3.6/dist-packages (from spacy>=2.2.2->fr_core_news_md==2.2.5) (1.0.0)\n",
            "Requirement already satisfied: srsly<1.1.0,>=1.0.2 in /usr/local/lib/python3.6/dist-packages (from spacy>=2.2.2->fr_core_news_md==2.2.5) (1.0.5)\n",
            "Requirement already satisfied: blis<0.5.0,>=0.4.0 in /usr/local/lib/python3.6/dist-packages (from spacy>=2.2.2->fr_core_news_md==2.2.5) (0.4.1)\n",
            "Requirement already satisfied: tqdm<5.0.0,>=4.38.0 in /usr/local/lib/python3.6/dist-packages (from spacy>=2.2.2->fr_core_news_md==2.2.5) (4.41.1)\n",
            "Requirement already satisfied: preshed<3.1.0,>=3.0.2 in /usr/local/lib/python3.6/dist-packages (from spacy>=2.2.2->fr_core_news_md==2.2.5) (3.0.5)\n",
            "Requirement already satisfied: urllib3!=1.25.0,!=1.25.1,<1.26,>=1.21.1 in /usr/local/lib/python3.6/dist-packages (from requests<3.0.0,>=2.13.0->spacy>=2.2.2->fr_core_news_md==2.2.5) (1.24.3)\n",
            "Requirement already satisfied: certifi>=2017.4.17 in /usr/local/lib/python3.6/dist-packages (from requests<3.0.0,>=2.13.0->spacy>=2.2.2->fr_core_news_md==2.2.5) (2020.12.5)\n",
            "Requirement already satisfied: idna<3,>=2.5 in /usr/local/lib/python3.6/dist-packages (from requests<3.0.0,>=2.13.0->spacy>=2.2.2->fr_core_news_md==2.2.5) (2.10)\n",
            "Requirement already satisfied: chardet<4,>=3.0.2 in /usr/local/lib/python3.6/dist-packages (from requests<3.0.0,>=2.13.0->spacy>=2.2.2->fr_core_news_md==2.2.5) (3.0.4)\n",
            "Requirement already satisfied: importlib-metadata>=0.20; python_version < \"3.8\" in /usr/local/lib/python3.6/dist-packages (from catalogue<1.1.0,>=0.0.7->spacy>=2.2.2->fr_core_news_md==2.2.5) (3.4.0)\n",
            "Requirement already satisfied: typing-extensions>=3.6.4; python_version < \"3.8\" in /usr/local/lib/python3.6/dist-packages (from importlib-metadata>=0.20; python_version < \"3.8\"->catalogue<1.1.0,>=0.0.7->spacy>=2.2.2->fr_core_news_md==2.2.5) (3.7.4.3)\n",
            "Requirement already satisfied: zipp>=0.5 in /usr/local/lib/python3.6/dist-packages (from importlib-metadata>=0.20; python_version < \"3.8\"->catalogue<1.1.0,>=0.0.7->spacy>=2.2.2->fr_core_news_md==2.2.5) (3.4.0)\n",
            "Building wheels for collected packages: fr-core-news-md\n",
            "  Building wheel for fr-core-news-md (setup.py) ... \u001b[?25l\u001b[?25hdone\n",
            "  Created wheel for fr-core-news-md: filename=fr_core_news_md-2.2.5-cp36-none-any.whl size=90338490 sha256=7c15ac4907113fbe46ad9f7474c3283f10fcc26b16d0167ab498a10cca6c0cf5\n",
            "  Stored in directory: /tmp/pip-ephem-wheel-cache-yg3miowo/wheels/c6/18/b6/f628642acc7872a53cf81269dd1c394d96da69564ccfac5425\n",
            "Successfully built fr-core-news-md\n",
            "Installing collected packages: fr-core-news-md\n",
            "Successfully installed fr-core-news-md-2.2.5\n",
            "\u001b[38;5;2m✔ Download and installation successful\u001b[0m\n",
            "You can now load the model via spacy.load('fr_core_news_md')\n"
          ],
          "name": "stdout"
        }
      ]
    },
    {
      "cell_type": "code",
      "metadata": {
        "id": "G1d_nO78LIy9"
      },
      "source": [
        "import pandas as pd\n",
        "import matplotlib.pyplot as plt\n",
        "import numpy as np\n",
        "from time import time\n",
        "\n",
        "# Modules de traitement du texte\n",
        "import spacy\n",
        "import fr_core_news_md\n",
        "import nltk\n",
        "import re\n",
        "from termcolor import colored\n",
        "from emot.emo_unicode import UNICODE_EMO, EMOTICONS\n",
        "\n",
        "# Modules pour le wordcloud\n",
        "from PIL import Image\n",
        "from wordcloud import WordCloud, STOPWORDS, ImageColorGenerator\n",
        "\n",
        "# Module pour scattertext\n",
        "import scattertext as st\n",
        "\n",
        "# Modules de modélisation\n",
        "from sklearn.feature_extraction.text import TfidfVectorizer\n",
        "from sklearn.pipeline import Pipeline, FeatureUnion\n",
        "from sklearn.model_selection import GridSearchCV, train_test_split\n",
        "from sklearn import svm\n",
        "from sklearn.linear_model import LogisticRegression\n",
        "from sklearn.naive_bayes import MultinomialNB\n",
        "from sklearn.metrics import confusion_matrix, plot_confusion_matrix,classification_report"
      ],
      "execution_count": null,
      "outputs": []
    },
    {
      "cell_type": "code",
      "metadata": {
        "id": "ZdeI55hXMWYA"
      },
      "source": [
        "# chemin où se trouve le jeu de données (tweets_JLM_MLP_EM.csv)\n",
        "PATH_DATA = '/content/drive/MyDrive/Colab Notebooks'"
      ],
      "execution_count": null,
      "outputs": []
    },
    {
      "cell_type": "code",
      "metadata": {
        "colab": {
          "base_uri": "https://localhost:8080/"
        },
        "id": "JO57EheGXr8a",
        "outputId": "8e96c35e-7173-4e10-c170-d7f52ed4ad96"
      },
      "source": [
        "from google.colab import drive\n",
        "drive.mount('/content/drive', force_remount= True)"
      ],
      "execution_count": null,
      "outputs": [
        {
          "output_type": "stream",
          "text": [
            "Mounted at /content/drive\n"
          ],
          "name": "stdout"
        }
      ]
    },
    {
      "cell_type": "code",
      "metadata": {
        "id": "0XWKd6KSYIxp"
      },
      "source": [
        ""
      ],
      "execution_count": null,
      "outputs": []
    },
    {
      "cell_type": "code",
      "metadata": {
        "id": "4NdZrLyBYEKk"
      },
      "source": [
        ""
      ],
      "execution_count": null,
      "outputs": []
    },
    {
      "cell_type": "markdown",
      "metadata": {
        "id": "S5yIKyNBL8sG"
      },
      "source": [
        "## **2. Prise en main de la base de données**\n",
        "\n",
        "Les données ont été extraites via l'API tweepy dans un autre notebook. \\\n",
        "Les tweets de Jean-Luc Mélenchon, de Marine Le Pen et de Emmanuel Macron ont été récupérés. \n",
        "\n",
        "Regardez les variables à disposition, quelques comptages, s'il y a des données manquantes, quelques graphiques (?), la spécificité des tweets, etc. "
      ]
    },
    {
      "cell_type": "markdown",
      "metadata": {
        "id": "1y8B9ztR5Iee"
      },
      "source": [
        "#### Import des données"
      ]
    },
    {
      "cell_type": "code",
      "metadata": {
        "id": "Fl_jd11jLI4R"
      },
      "source": [
        "df_tweets = pd.read_csv('{}/tweets_JLM_MLP_EM.csv'.format(PATH_DATA),encoding=\"utf-8\")\n",
        "\n",
        "# ou si le csv est directement dans votre jupyter : \n",
        "# df_tweets = pd.read_csv('tweets_JLM_MLP_EM.csv')"
      ],
      "execution_count": null,
      "outputs": []
    },
    {
      "cell_type": "code",
      "metadata": {
        "colab": {
          "base_uri": "https://localhost:8080/"
        },
        "id": "wb6War732Z4H",
        "outputId": "3aca5556-889d-4bb9-a51a-1e07c87ad324"
      },
      "source": [
        "df_tweets.shape"
      ],
      "execution_count": null,
      "outputs": [
        {
          "output_type": "execute_result",
          "data": {
            "text/plain": [
              "(7690, 6)"
            ]
          },
          "metadata": {
            "tags": []
          },
          "execution_count": 15
        }
      ]
    },
    {
      "cell_type": "code",
      "metadata": {
        "colab": {
          "base_uri": "https://localhost:8080/",
          "height": 289
        },
        "id": "jmNq0KrHOtd-",
        "outputId": "92ab81b1-479b-41c0-aec6-77452df2cff3"
      },
      "source": [
        "df_tweets.head()"
      ],
      "execution_count": null,
      "outputs": [
        {
          "output_type": "execute_result",
          "data": {
            "text/html": [
              "<div>\n",
              "<style scoped>\n",
              "    .dataframe tbody tr th:only-of-type {\n",
              "        vertical-align: middle;\n",
              "    }\n",
              "\n",
              "    .dataframe tbody tr th {\n",
              "        vertical-align: top;\n",
              "    }\n",
              "\n",
              "    .dataframe thead th {\n",
              "        text-align: right;\n",
              "    }\n",
              "</style>\n",
              "<table border=\"1\" class=\"dataframe\">\n",
              "  <thead>\n",
              "    <tr style=\"text-align: right;\">\n",
              "      <th></th>\n",
              "      <th>id</th>\n",
              "      <th>created_at</th>\n",
              "      <th>favorite_count</th>\n",
              "      <th>retweet_count</th>\n",
              "      <th>text</th>\n",
              "      <th>user_id</th>\n",
              "    </tr>\n",
              "  </thead>\n",
              "  <tbody>\n",
              "    <tr>\n",
              "      <th>0</th>\n",
              "      <td>1355788407344164865</td>\n",
              "      <td>2021-01-31 08:02:00</td>\n",
              "      <td>628</td>\n",
              "      <td>223</td>\n",
              "      <td>Il faut imaginer une autre façon de vivre. #OE...</td>\n",
              "      <td>JLMelenchon</td>\n",
              "    </tr>\n",
              "    <tr>\n",
              "      <th>1</th>\n",
              "      <td>1355687094627274760</td>\n",
              "      <td>2021-01-31 01:19:25</td>\n",
              "      <td>541</td>\n",
              "      <td>213</td>\n",
              "      <td>Ils ont transformé le Bac en marchandise. Et v...</td>\n",
              "      <td>JLMelenchon</td>\n",
              "    </tr>\n",
              "    <tr>\n",
              "      <th>2</th>\n",
              "      <td>1355683811976237057</td>\n",
              "      <td>2021-01-31 01:06:22</td>\n",
              "      <td>434</td>\n",
              "      <td>169</td>\n",
              "      <td>La Commune appartient à l'histoire de France. ...</td>\n",
              "      <td>JLMelenchon</td>\n",
              "    </tr>\n",
              "    <tr>\n",
              "      <th>3</th>\n",
              "      <td>1355680607657996288</td>\n",
              "      <td>2021-01-31 00:53:38</td>\n",
              "      <td>363</td>\n",
              "      <td>139</td>\n",
              "      <td>Ce qui compte c'est les idées, et plus exactem...</td>\n",
              "      <td>JLMelenchon</td>\n",
              "    </tr>\n",
              "    <tr>\n",
              "      <th>4</th>\n",
              "      <td>1355679024404713474</td>\n",
              "      <td>2021-01-31 00:47:21</td>\n",
              "      <td>479</td>\n",
              "      <td>189</td>\n",
              "      <td>La situation des étudiants était prévisible. A...</td>\n",
              "      <td>JLMelenchon</td>\n",
              "    </tr>\n",
              "  </tbody>\n",
              "</table>\n",
              "</div>"
            ],
            "text/plain": [
              "                    id  ...      user_id\n",
              "0  1355788407344164865  ...  JLMelenchon\n",
              "1  1355687094627274760  ...  JLMelenchon\n",
              "2  1355683811976237057  ...  JLMelenchon\n",
              "3  1355680607657996288  ...  JLMelenchon\n",
              "4  1355679024404713474  ...  JLMelenchon\n",
              "\n",
              "[5 rows x 6 columns]"
            ]
          },
          "metadata": {
            "tags": []
          },
          "execution_count": 16
        }
      ]
    },
    {
      "cell_type": "markdown",
      "metadata": {
        "id": "BlANmcVAPh3L"
      },
      "source": [
        "####  Quelques comptages / graphiques"
      ]
    },
    {
      "cell_type": "markdown",
      "metadata": {
        "id": "k_J_CgyXSpUU"
      },
      "source": [
        "##### Indicateurs simples sur les variables : \n",
        "- Y a't'il des données manquantes ? \n",
        "- combien de tweets de MLP et JLM ? \n",
        "- dates minimales / maximales des tweets\n",
        "- Distribution des favoris et des retweets de MLP et JLM"
      ]
    },
    {
      "cell_type": "markdown",
      "metadata": {
        "id": "Qd-6BM7i6ZvW"
      },
      "source": [
        "<details>    \n",
        "<summary>\n",
        "    <font size=\"3\" color=\"darkgreen\"><b>Aide</b></font>\n",
        "</summary>\n",
        "<p>\n",
        "<ul>\n",
        "    <li> Utiliser .isnull() </li>\n",
        "    <li><a href=\"https://pandas.pydata.org/pandas-docs/stable/reference/api/pandas.DataFrame.value_counts.html\" >pd.value_counts()</a> pour compter le nombre de modalités d'une variable catégorielle </li>\n",
        "    <li> Convertir la date au bon format avec pd.to_datetime() </li>\n",
        "    <li> Vous pouvez utiliser la fonction groupby et describe() </li>\n",
        "\n",
        "</ul>\n",
        "</p>"
      ]
    },
    {
      "cell_type": "code",
      "metadata": {
        "id": "Rpd04jMO9h1E",
        "colab": {
          "base_uri": "https://localhost:8080/"
        },
        "outputId": "3fbeb5b7-8378-4140-ac3f-b82d8a43c894"
      },
      "source": [
        "# Implémentez la fonction en changeant le None\n",
        "def check_missing_values(df):\n",
        "  print(\"check for missing values : \")\n",
        "  print(df.isnull().sum()/len(df))  \n",
        "  return None\n",
        "\n",
        "check_missing_values(df_tweets)\n",
        "# Vous pouvez également utiliser df.info()"
      ],
      "execution_count": null,
      "outputs": [
        {
          "output_type": "stream",
          "text": [
            "check for missing values : \n",
            "id                0.0\n",
            "created_at        0.0\n",
            "favorite_count    0.0\n",
            "retweet_count     0.0\n",
            "text              0.0\n",
            "user_id           0.0\n",
            "dtype: float64\n"
          ],
          "name": "stdout"
        }
      ]
    },
    {
      "cell_type": "code",
      "metadata": {
        "id": "ndZ68VlXLI8M",
        "colab": {
          "base_uri": "https://localhost:8080/"
        },
        "outputId": "23f98478-577b-42f9-fde7-afe215df5ecd"
      },
      "source": [
        "# Combien de tweets dans la base de données pour chacun des 2 politiques ? \n",
        "df_tweets[\"user_id\"].value_counts()\n",
        "# ou df_tweets[\"user_id\"].value_counts(normalize=True) si vous voulez avoir les pourcentages"
      ],
      "execution_count": null,
      "outputs": [
        {
          "output_type": "execute_result",
          "data": {
            "text/plain": [
              "EmmanuelMacron    2897\n",
              "MLP_officiel      2559\n",
              "JLMelenchon       2234\n",
              "Name: user_id, dtype: int64"
            ]
          },
          "metadata": {
            "tags": []
          },
          "execution_count": 18
        }
      ]
    },
    {
      "cell_type": "code",
      "metadata": {
        "id": "6mpm5HJsSTmD",
        "colab": {
          "base_uri": "https://localhost:8080/"
        },
        "outputId": "3e874861-6e86-46a7-ce34-0a8b1b50b689"
      },
      "source": [
        "# A quelles dates ont été envoyés les premiers / derniers tweets de JML et MLP ? \n",
        "df_tweets[\"created_at\"] = pd.to_datetime(df_tweets['created_at'])\n",
        "df_tweets.groupby([\"user_id\"])[\"created_at\"].apply(lambda x  : [x.min(), x.max()])"
      ],
      "execution_count": null,
      "outputs": [
        {
          "output_type": "execute_result",
          "data": {
            "text/plain": [
              "user_id\n",
              "EmmanuelMacron    [2018-05-01 18:40:31, 2021-01-30 17:08:01]\n",
              "JLMelenchon       [2020-04-19 09:59:47, 2021-01-31 08:02:00]\n",
              "MLP_officiel      [2019-01-19 16:05:02, 2021-01-29 21:02:28]\n",
              "Name: created_at, dtype: object"
            ]
          },
          "metadata": {
            "tags": []
          },
          "execution_count": 19
        }
      ]
    },
    {
      "cell_type": "code",
      "metadata": {
        "id": "kx4UvxNc81Js",
        "colab": {
          "base_uri": "https://localhost:8080/",
          "height": 224
        },
        "outputId": "44b44cea-3b42-4c25-d620-9b033e7647ff"
      },
      "source": [
        "# Quelle est la distribution des favoris et retweets de MLP et JLM  ?\n",
        "df_tweets.groupby([\"user_id\"])[[\"favorite_count\", \"retweet_count\"]].describe()"
      ],
      "execution_count": null,
      "outputs": [
        {
          "output_type": "execute_result",
          "data": {
            "text/html": [
              "<div>\n",
              "<style scoped>\n",
              "    .dataframe tbody tr th:only-of-type {\n",
              "        vertical-align: middle;\n",
              "    }\n",
              "\n",
              "    .dataframe tbody tr th {\n",
              "        vertical-align: top;\n",
              "    }\n",
              "\n",
              "    .dataframe thead tr th {\n",
              "        text-align: left;\n",
              "    }\n",
              "\n",
              "    .dataframe thead tr:last-of-type th {\n",
              "        text-align: right;\n",
              "    }\n",
              "</style>\n",
              "<table border=\"1\" class=\"dataframe\">\n",
              "  <thead>\n",
              "    <tr>\n",
              "      <th></th>\n",
              "      <th colspan=\"8\" halign=\"left\">favorite_count</th>\n",
              "      <th colspan=\"8\" halign=\"left\">retweet_count</th>\n",
              "    </tr>\n",
              "    <tr>\n",
              "      <th></th>\n",
              "      <th>count</th>\n",
              "      <th>mean</th>\n",
              "      <th>std</th>\n",
              "      <th>min</th>\n",
              "      <th>25%</th>\n",
              "      <th>50%</th>\n",
              "      <th>75%</th>\n",
              "      <th>max</th>\n",
              "      <th>count</th>\n",
              "      <th>mean</th>\n",
              "      <th>std</th>\n",
              "      <th>min</th>\n",
              "      <th>25%</th>\n",
              "      <th>50%</th>\n",
              "      <th>75%</th>\n",
              "      <th>max</th>\n",
              "    </tr>\n",
              "    <tr>\n",
              "      <th>user_id</th>\n",
              "      <th></th>\n",
              "      <th></th>\n",
              "      <th></th>\n",
              "      <th></th>\n",
              "      <th></th>\n",
              "      <th></th>\n",
              "      <th></th>\n",
              "      <th></th>\n",
              "      <th></th>\n",
              "      <th></th>\n",
              "      <th></th>\n",
              "      <th></th>\n",
              "      <th></th>\n",
              "      <th></th>\n",
              "      <th></th>\n",
              "      <th></th>\n",
              "    </tr>\n",
              "  </thead>\n",
              "  <tbody>\n",
              "    <tr>\n",
              "      <th>EmmanuelMacron</th>\n",
              "      <td>2897.0</td>\n",
              "      <td>5506.235416</td>\n",
              "      <td>13867.602674</td>\n",
              "      <td>132.0</td>\n",
              "      <td>879.0</td>\n",
              "      <td>2007.0</td>\n",
              "      <td>4633.0</td>\n",
              "      <td>243755.0</td>\n",
              "      <td>2897.0</td>\n",
              "      <td>1128.890576</td>\n",
              "      <td>3379.589590</td>\n",
              "      <td>36.0</td>\n",
              "      <td>227.0</td>\n",
              "      <td>448.0</td>\n",
              "      <td>908.0</td>\n",
              "      <td>71405.0</td>\n",
              "    </tr>\n",
              "    <tr>\n",
              "      <th>JLMelenchon</th>\n",
              "      <td>2234.0</td>\n",
              "      <td>742.933751</td>\n",
              "      <td>2288.676408</td>\n",
              "      <td>25.0</td>\n",
              "      <td>110.0</td>\n",
              "      <td>228.0</td>\n",
              "      <td>702.0</td>\n",
              "      <td>66651.0</td>\n",
              "      <td>2234.0</td>\n",
              "      <td>276.491047</td>\n",
              "      <td>860.270484</td>\n",
              "      <td>13.0</td>\n",
              "      <td>47.0</td>\n",
              "      <td>93.0</td>\n",
              "      <td>299.0</td>\n",
              "      <td>27751.0</td>\n",
              "    </tr>\n",
              "    <tr>\n",
              "      <th>MLP_officiel</th>\n",
              "      <td>2559.0</td>\n",
              "      <td>1172.197733</td>\n",
              "      <td>1168.385382</td>\n",
              "      <td>67.0</td>\n",
              "      <td>398.5</td>\n",
              "      <td>787.0</td>\n",
              "      <td>1541.5</td>\n",
              "      <td>11446.0</td>\n",
              "      <td>2559.0</td>\n",
              "      <td>472.679172</td>\n",
              "      <td>417.929886</td>\n",
              "      <td>49.0</td>\n",
              "      <td>184.0</td>\n",
              "      <td>341.0</td>\n",
              "      <td>626.0</td>\n",
              "      <td>4219.0</td>\n",
              "    </tr>\n",
              "  </tbody>\n",
              "</table>\n",
              "</div>"
            ],
            "text/plain": [
              "               favorite_count                             ... retweet_count                \n",
              "                        count         mean           std  ...           50%    75%      max\n",
              "user_id                                                   ...                              \n",
              "EmmanuelMacron         2897.0  5506.235416  13867.602674  ...         448.0  908.0  71405.0\n",
              "JLMelenchon            2234.0   742.933751   2288.676408  ...          93.0  299.0  27751.0\n",
              "MLP_officiel           2559.0  1172.197733   1168.385382  ...         341.0  626.0   4219.0\n",
              "\n",
              "[3 rows x 16 columns]"
            ]
          },
          "metadata": {
            "tags": []
          },
          "execution_count": 20
        }
      ]
    },
    {
      "cell_type": "markdown",
      "metadata": {
        "id": "zp38kr7YTIyP"
      },
      "source": [
        "##### Répartition du nombre de retweets / favoris dans le temps "
      ]
    },
    {
      "cell_type": "code",
      "metadata": {
        "id": "wUzv4R0HOF2p"
      },
      "source": [
        "def visualize_count_favorites(df, userID) : \n",
        "  \n",
        "  ''' Cette fonction permet de visualiser le nombre de favoris et de retweets \n",
        "  sur toute la période pour un user_id donné '''\n",
        "\n",
        "  df_temp = df.loc[df[\"user_id\"] == userID]\n",
        "  ylabels = [\"favorite_count\", \"retweet_count\"]\n",
        "\n",
        "  print(\"Représentation des nombres de retweets et de favoris de chaque tweet de {} par date\".format(userID))\n",
        "  fig = plt.figure(figsize=(13,3))\n",
        "  fig.subplots_adjust(hspace=0.01,wspace=0.01)\n",
        "\n",
        "  n_row = len(ylabels)\n",
        "  n_col = 1\n",
        "  for count, ylabel in enumerate(ylabels):\n",
        "      ax = fig.add_subplot(n_row, n_col, count + 1)\n",
        "      ax.plot(df_temp[\"created_at\"], df_temp[ylabel])\n",
        "      ax.set_ylabel(ylabel)\n",
        "  \n",
        "  plt.show()"
      ],
      "execution_count": null,
      "outputs": []
    },
    {
      "cell_type": "code",
      "metadata": {
        "colab": {
          "base_uri": "https://localhost:8080/",
          "height": 475
        },
        "id": "_EX8kGe5PMnX",
        "outputId": "73e531ae-917a-45c2-b48a-b13d0196c915"
      },
      "source": [
        "visualize_count_favorites(df_tweets, \"JLMelenchon\")\n",
        "print(\"\\n\")\n",
        "visualize_count_favorites(df_tweets, \"MLP_officiel\")"
      ],
      "execution_count": null,
      "outputs": [
        {
          "output_type": "stream",
          "text": [
            "Représentation des nombres de retweets et de favoris de chaque tweet de JLMelenchon par date\n"
          ],
          "name": "stdout"
        },
        {
          "output_type": "display_data",
          "data": {
            "image/png": "[encoded data removed]",
            "text/plain": [
              "<Figure size 936x216 with 2 Axes>"
            ]
          },
          "metadata": {
            "tags": [],
            "needs_background": "light"
          }
        },
        {
          "output_type": "stream",
          "text": [
            "\n",
            "\n",
            "Représentation des nombres de retweets et de favoris de chaque tweet de MLP_officiel par date\n"
          ],
          "name": "stdout"
        },
        {
          "output_type": "display_data",
          "data": {
            "image/png": "[encoded data removed]",
            "text/plain": [
              "<Figure size 936x216 with 2 Axes>"
            ]
          },
          "metadata": {
            "tags": [],
            "needs_background": "light"
          }
        }
      ]
    },
    {
      "cell_type": "markdown",
      "metadata": {
        "id": "u0lKdMMwADR0"
      },
      "source": [
        "> **Question** : Qu'observe-t'on ? "
      ]
    },
    {
      "cell_type": "markdown",
      "metadata": {
        "id": "VwudV8x6DFdE"
      },
      "source": [
        "**Réponse** : \n",
        "- JLM : 2 tweets ont été plus de 20K fois retweetés (alors qu'en moyenne, un tweet de JLM est retweeté 280 fois) et ont eu donc une grande popularité par rapport à son audience normale. \n",
        "- MLP a plutôt une audience stable, avec quelques tweets qui ont été plus retweetés (pic à 4K alors qu'en moyenne un tweet de MLP est retweeté 470 fois)."
      ]
    },
    {
      "cell_type": "markdown",
      "metadata": {
        "id": "xBKjp28WTWCo"
      },
      "source": [
        "##### Taille des tweets par politique \n",
        "\n",
        "Est-ce que les tweets de MLP sont plus/moins longs que ceux de JLM ? "
      ]
    },
    {
      "cell_type": "markdown",
      "metadata": {
        "id": "x2GQA6vmBS8N"
      },
      "source": [
        "<details>    \n",
        "<summary>\n",
        "    <font size=\"3\" color=\"darkgreen\"><b>Aide</b></font>\n",
        "</summary>\n",
        "<p>\n",
        "<ul>\n",
        "    <li> Utilisez la fonction <a href=\"https://pandas.pydata.org/pandas-docs/stable/reference/api/pandas.Series.str.split.html\" >.split()</a> pour calculer la taille des tweets</li>\n",
        "    <li> Vous pouvez utiliser la fonction groupby et describe() </li>\n",
        "\n",
        "</ul>\n",
        "</p>"
      ]
    },
    {
      "cell_type": "code",
      "metadata": {
        "id": "_To_KRC63G6J",
        "colab": {
          "base_uri": "https://localhost:8080/",
          "height": 173
        },
        "outputId": "ab716df8-7c56-426b-e95a-4cf33ab10de7"
      },
      "source": [
        "# Calcul d'une variable contenant le nombre de mots de chaque tweets\n",
        "df_tweets[\"lenght_tweet\"] = df_tweets[\"text\"].apply(lambda tweet : len(tweet.split()))\n",
        "\n",
        "# Calcul de la distribution de la variable pour chaque politique\n",
        "df_tweets.groupby([\"user_id\"]).lenght_tweet.describe()"
      ],
      "execution_count": null,
      "outputs": [
        {
          "output_type": "execute_result",
          "data": {
            "text/html": [
              "<div>\n",
              "<style scoped>\n",
              "    .dataframe tbody tr th:only-of-type {\n",
              "        vertical-align: middle;\n",
              "    }\n",
              "\n",
              "    .dataframe tbody tr th {\n",
              "        vertical-align: top;\n",
              "    }\n",
              "\n",
              "    .dataframe thead th {\n",
              "        text-align: right;\n",
              "    }\n",
              "</style>\n",
              "<table border=\"1\" class=\"dataframe\">\n",
              "  <thead>\n",
              "    <tr style=\"text-align: right;\">\n",
              "      <th></th>\n",
              "      <th>count</th>\n",
              "      <th>mean</th>\n",
              "      <th>std</th>\n",
              "      <th>min</th>\n",
              "      <th>25%</th>\n",
              "      <th>50%</th>\n",
              "      <th>75%</th>\n",
              "      <th>max</th>\n",
              "    </tr>\n",
              "    <tr>\n",
              "      <th>user_id</th>\n",
              "      <th></th>\n",
              "      <th></th>\n",
              "      <th></th>\n",
              "      <th></th>\n",
              "      <th></th>\n",
              "      <th></th>\n",
              "      <th></th>\n",
              "      <th></th>\n",
              "    </tr>\n",
              "  </thead>\n",
              "  <tbody>\n",
              "    <tr>\n",
              "      <th>EmmanuelMacron</th>\n",
              "      <td>2897.0</td>\n",
              "      <td>28.575423</td>\n",
              "      <td>12.003363</td>\n",
              "      <td>1.0</td>\n",
              "      <td>19.0</td>\n",
              "      <td>29.0</td>\n",
              "      <td>39.0</td>\n",
              "      <td>57.0</td>\n",
              "    </tr>\n",
              "    <tr>\n",
              "      <th>JLMelenchon</th>\n",
              "      <td>2234.0</td>\n",
              "      <td>30.417189</td>\n",
              "      <td>11.141463</td>\n",
              "      <td>1.0</td>\n",
              "      <td>22.0</td>\n",
              "      <td>31.0</td>\n",
              "      <td>39.0</td>\n",
              "      <td>58.0</td>\n",
              "    </tr>\n",
              "    <tr>\n",
              "      <th>MLP_officiel</th>\n",
              "      <td>2559.0</td>\n",
              "      <td>35.613130</td>\n",
              "      <td>10.775029</td>\n",
              "      <td>1.0</td>\n",
              "      <td>30.0</td>\n",
              "      <td>38.0</td>\n",
              "      <td>43.0</td>\n",
              "      <td>55.0</td>\n",
              "    </tr>\n",
              "  </tbody>\n",
              "</table>\n",
              "</div>"
            ],
            "text/plain": [
              "                 count       mean        std  min   25%   50%   75%   max\n",
              "user_id                                                                  \n",
              "EmmanuelMacron  2897.0  28.575423  12.003363  1.0  19.0  29.0  39.0  57.0\n",
              "JLMelenchon     2234.0  30.417189  11.141463  1.0  22.0  31.0  39.0  58.0\n",
              "MLP_officiel    2559.0  35.613130  10.775029  1.0  30.0  38.0  43.0  55.0"
            ]
          },
          "metadata": {
            "tags": []
          },
          "execution_count": 23
        }
      ]
    },
    {
      "cell_type": "code",
      "metadata": {
        "colab": {
          "base_uri": "https://localhost:8080/",
          "height": 193
        },
        "id": "iBRe2i_nifVI",
        "outputId": "81106180-4846-426a-e4d0-0c86d2039c4d"
      },
      "source": [
        "df_tweets.head(3)"
      ],
      "execution_count": null,
      "outputs": [
        {
          "output_type": "execute_result",
          "data": {
            "text/html": [
              "<div>\n",
              "<style scoped>\n",
              "    .dataframe tbody tr th:only-of-type {\n",
              "        vertical-align: middle;\n",
              "    }\n",
              "\n",
              "    .dataframe tbody tr th {\n",
              "        vertical-align: top;\n",
              "    }\n",
              "\n",
              "    .dataframe thead th {\n",
              "        text-align: right;\n",
              "    }\n",
              "</style>\n",
              "<table border=\"1\" class=\"dataframe\">\n",
              "  <thead>\n",
              "    <tr style=\"text-align: right;\">\n",
              "      <th></th>\n",
              "      <th>id</th>\n",
              "      <th>created_at</th>\n",
              "      <th>favorite_count</th>\n",
              "      <th>retweet_count</th>\n",
              "      <th>text</th>\n",
              "      <th>user_id</th>\n",
              "      <th>lenght_tweet</th>\n",
              "    </tr>\n",
              "  </thead>\n",
              "  <tbody>\n",
              "    <tr>\n",
              "      <th>0</th>\n",
              "      <td>1355788407344164865</td>\n",
              "      <td>2021-01-31 08:02:00</td>\n",
              "      <td>628</td>\n",
              "      <td>223</td>\n",
              "      <td>Il faut imaginer une autre façon de vivre. #OE...</td>\n",
              "      <td>JLMelenchon</td>\n",
              "      <td>10</td>\n",
              "    </tr>\n",
              "    <tr>\n",
              "      <th>1</th>\n",
              "      <td>1355687094627274760</td>\n",
              "      <td>2021-01-31 01:19:25</td>\n",
              "      <td>541</td>\n",
              "      <td>213</td>\n",
              "      <td>Ils ont transformé le Bac en marchandise. Et v...</td>\n",
              "      <td>JLMelenchon</td>\n",
              "      <td>44</td>\n",
              "    </tr>\n",
              "    <tr>\n",
              "      <th>2</th>\n",
              "      <td>1355683811976237057</td>\n",
              "      <td>2021-01-31 01:06:22</td>\n",
              "      <td>434</td>\n",
              "      <td>169</td>\n",
              "      <td>La Commune appartient à l'histoire de France. ...</td>\n",
              "      <td>JLMelenchon</td>\n",
              "      <td>47</td>\n",
              "    </tr>\n",
              "  </tbody>\n",
              "</table>\n",
              "</div>"
            ],
            "text/plain": [
              "                    id          created_at  ...      user_id  lenght_tweet\n",
              "0  1355788407344164865 2021-01-31 08:02:00  ...  JLMelenchon            10\n",
              "1  1355687094627274760 2021-01-31 01:19:25  ...  JLMelenchon            44\n",
              "2  1355683811976237057 2021-01-31 01:06:22  ...  JLMelenchon            47\n",
              "\n",
              "[3 rows x 7 columns]"
            ]
          },
          "metadata": {
            "tags": []
          },
          "execution_count": 24
        }
      ]
    },
    {
      "cell_type": "markdown",
      "metadata": {
        "id": "vdKXU6wpDV4c"
      },
      "source": [
        "**Réponse** : En moyenne, MLP fait des tweets plus longs que les autres. "
      ]
    },
    {
      "cell_type": "markdown",
      "metadata": {
        "id": "XqT4UpSJTfOH"
      },
      "source": [
        "##### Lecture de quelques tweets"
      ]
    },
    {
      "cell_type": "code",
      "metadata": {
        "id": "5lQNubmtRSPo"
      },
      "source": [
        "def print_famous_tweets(userID, nb_favorites) :\n",
        "\n",
        "  ''' Cette fonction permet de sélectionner les tweets qui ont eu le plus de favoris \n",
        "  pour un user_id donné, et de lire le tweet avec les indicateurs des autres variables de la \n",
        "  base de données  \n",
        "  '''\n",
        "\n",
        "  df_sub = df_tweets.loc[(df_tweets.user_id==userID) & (df_tweets.favorite_count > nb_favorites),:]\n",
        "  for irow in range(df_sub.shape[0]):\n",
        "      df_row = df_sub.iloc[irow,:]\n",
        "    \n",
        "      print(df_row[\"created_at\"])\n",
        "      print(\"favorite_count={:6} retweet_count={:6}\".format(df_row[\"favorite_count\"],df_row[\"retweet_count\"]))\n",
        "      print(colored(df_row[\"text\"], 'magenta'))\n",
        "      print(\"\\n\")"
      ],
      "execution_count": null,
      "outputs": []
    },
    {
      "cell_type": "code",
      "metadata": {
        "colab": {
          "base_uri": "https://localhost:8080/"
        },
        "id": "cPPcOCJ3Rjkj",
        "outputId": "d6707528-7edf-448c-901e-377efebb99fa"
      },
      "source": [
        "print_famous_tweets(\"JLMelenchon\", 20000)"
      ],
      "execution_count": null,
      "outputs": [
        {
          "output_type": "stream",
          "text": [
            "2020-10-14 18:38:21\n",
            "favorite_count= 66651 retweet_count= 27751\n",
            "\u001b[35m60 % des contaminations ont lieu au travail ou à l'école ou à l'université entre 8h et 19h. \n",
            "\n",
            "Mais #Macron interdit les sorties au bar et au restau entre 20h et 6h. \n",
            "\n",
            "Bienvenue en Absurdie.\n",
            "\n",
            "#macron20h #CouvreFeu #COVID19france\u001b[0m\n",
            "\n",
            "\n",
            "2020-09-14 13:41:47\n",
            "favorite_count= 26941 retweet_count= 10319\n",
            "\u001b[35mLa haine contre la 2ème religion du pays n'a donc plus de limite. https://t.co/0latKIG78G\u001b[0m\n",
            "\n",
            "\n",
            "2020-06-02 21:42:01\n",
            "favorite_count= 21947 retweet_count=  8461\n",
            "\u001b[35m#Castaner ! La violence c'est vous et votre préfet qui la provoquez ! Ça suffit ! Le pays mérite mieux que votre jeu d'apprenti sorcier. Donald Trump n'est pas un modèle. #JusticePourAdama\u001b[0m\n",
            "\n",
            "\n",
            "2020-04-28 19:56:04\n",
            "favorite_count= 55881 retweet_count= 18265\n",
            "\u001b[35mJ'ai pas compris. Le #11mai il déconfine les coiffeurs oui ou non ? #DirectAN https://t.co/3s2ml69ful https://t.co/XWTCpZr4j5\u001b[0m\n",
            "\n",
            "\n"
          ],
          "name": "stdout"
        }
      ]
    },
    {
      "cell_type": "code",
      "metadata": {
        "id": "mZZEVFMPUMHd"
      },
      "source": [
        "print_famous_tweets(\"MLP_officiel\", 10000)"
      ],
      "execution_count": null,
      "outputs": []
    },
    {
      "cell_type": "markdown",
      "metadata": {
        "id": "3kZrXKcf5auz"
      },
      "source": [
        "> **Question** : Qu'y-a't'il de particulier dans les tweets par rapport à un texte normal ?"
      ]
    },
    {
      "cell_type": "markdown",
      "metadata": {
        "id": "uFb2KGuIDeDk"
      },
      "source": [
        "**Réponse** : On voit que les tweets ont une syntaxe particulère : \n",
        "- hashtags \n",
        "- liens internet\n",
        "- émojis"
      ]
    },
    {
      "cell_type": "markdown",
      "metadata": {
        "id": "8DhFHdNx0cMZ"
      },
      "source": [
        "## **3. Preprocessing du texte**\n",
        "\n",
        "On va prendre en compte les particularités des tweets pour nettoyer le texte. \\\n",
        "On va tester les techniques de preprocessing des cours précédents sur du texte français : \n",
        "- stopwords\n",
        "- lemmatisation\n",
        "- tokenisation\n"
      ]
    },
    {
      "cell_type": "markdown",
      "metadata": {
        "id": "JKly-cTpaO0x"
      },
      "source": [
        "### Nettoyage du texte\n",
        "Dans cette partie du TP, on nettoie le texte pour enlever les mots qui vont rajouter du bruit à l'analyse (et ne rien apporter) \\\n",
        "Pour nettoyer le texte : \n",
        "- conversation des emojis en texte\n",
        "- suppression de certaines expressions grâce à des expressions régulières\n",
        "- suppression des stopwords\n"
      ]
    },
    {
      "cell_type": "code",
      "metadata": {
        "id": "Fy95Q4iU1tVw",
        "colab": {
          "base_uri": "https://localhost:8080/"
        },
        "outputId": "da7f1aec-ed69-4db3-e4c6-7ff4d7c5d3b5"
      },
      "source": [
        "# on charge le modèle français de spacy\n",
        "nlp = fr_core_news_md.load()\n",
        "\n",
        "# On rajoute dans des stopwords à la liste de stopwords proposée par spacy\n",
        "nlp.Defaults.stop_words |= {\"mlp\",\"a\",\"faut\",\"faire\",\"monsieur\",\"rendez-vous\",\"direct\",\n",
        "                            \"interview\",r\"invité\\w+\",\"dit\",\"livetweet\",\"suivez\",\"celui\",\n",
        "                            \"ce\",\"cette\",\"emot_right_arrow\"}\n",
        "\n",
        "# nombre de stopwords \n",
        "len(nlp.Defaults.stop_words)"
      ],
      "execution_count": null,
      "outputs": [
        {
          "output_type": "execute_result",
          "data": {
            "text/plain": [
              "611"
            ]
          },
          "metadata": {
            "tags": []
          },
          "execution_count": 27
        }
      ]
    },
    {
      "cell_type": "markdown",
      "metadata": {
        "id": "Y1OFocC9d6cG"
      },
      "source": [
        "> **Conseil** :  Regarder toujours la liste entière de stopwords proposés pour enlever certains mots qui seraient utiles dans votre étude ou rajouter des stopwords non présents dans la liste"
      ]
    },
    {
      "cell_type": "markdown",
      "metadata": {
        "id": "RUUPb9JHsFtz"
      },
      "source": [
        "Grâce au package emot et à la fonction ci-dessous, vous pouvez convertir les emojis dans les tweets en texte (pour ne pas perdre l'information qu'ils peuvent apporter à la suite de l'analyse)"
      ]
    },
    {
      "cell_type": "code",
      "metadata": {
        "colab": {
          "base_uri": "https://localhost:8080/"
        },
        "id": "gwQT1P9ypm86",
        "outputId": "3fa820ef-4823-4d54-d576-9e75aee5eb5a"
      },
      "source": [
        "def convert_emojis(text):\n",
        "  ''' Cette fonction transforme les emojis en texte qui commente par \n",
        "  emot_ puis la description en anglais de l'emoji.\n",
        "  Certains emojis ne sont pas bien convertis (ex : certains drapeaux)'''\n",
        "  for emot in UNICODE_EMO:\n",
        "    name_emoticon = \"_\".join(UNICODE_EMO[emot].replace(\",\",\"\").replace(\":\",\"\").replace(\"&\",\"\").split())\n",
        "    name_emoticon = re.sub(r\"[_-]+\", \"_\", name_emoticon)\n",
        "    name_emoticon = \"emot_\" + name_emoticon + \" \"\n",
        "    text = text.replace(emot, name_emoticon + \" \")\n",
        "  text = re.sub(r\"\\s+\", \" \", text)\n",
        "  return text\n",
        "\n",
        "replique1 = \"La ❓ elle est vite répondue 🤑🙄\"\n",
        "replique2 = \"Mets-moi des 🎉 dans ma vie Kevin ! \"\n",
        "\n",
        "print(convert_emojis(replique1))\n",
        "print(convert_emojis(replique2))"
      ],
      "execution_count": null,
      "outputs": [
        {
          "output_type": "stream",
          "text": [
            "La emot_question_mark elle est vite répondue emot_money_mouth_face emot_face_with_rolling_eyes \n",
            "Mets-moi des emot_party_popper dans ma vie Kevin ! \n"
          ],
          "name": "stdout"
        }
      ]
    },
    {
      "cell_type": "markdown",
      "metadata": {
        "id": "Jmt4HyRYFc3v"
      },
      "source": [
        "Expressions régulières pour nettoyer le texte "
      ]
    },
    {
      "cell_type": "code",
      "metadata": {
        "id": "2lRtXHvi8K_H"
      },
      "source": [
        "regexp_link = re.compile(r\"http\\S+\") # suppression des liens\n",
        "regexp_punctuation = re.compile(\"[,\\./<>\\?;':\\\"\\[\\]\\\\{}|`~!$%^&*()+-=«»’]\") # suppression des ponctuations\n",
        "\n",
        "# Rajout regexp après premier scattertext\n",
        "regexp_frenchflag = re.compile(\"🇫🇷\")"
      ],
      "execution_count": null,
      "outputs": []
    },
    {
      "cell_type": "markdown",
      "metadata": {
        "id": "MAyZ8veVFz36"
      },
      "source": [
        "**TODO** : Créer une expression régulière pour supprimer les hashtags et @"
      ]
    },
    {
      "cell_type": "markdown",
      "metadata": {
        "id": "W9a6YQrBGs8s"
      },
      "source": [
        "<details>    \n",
        "<summary>\n",
        "    <font size=\"3\" color=\"darkgreen\"><b>Aide</b></font>\n",
        "</summary>\n",
        "<p>\n",
        "Lorsque vous cherchez à créer des expressions régulières, vous pouvez vous aider en allant sur ce site : <a href=\"https://regex101.com/\" >regex101.com</a> \n",
        "</p> "
      ]
    },
    {
      "cell_type": "code",
      "metadata": {
        "id": "jHi1pQKqFzAv"
      },
      "source": [
        "regexp_hashtags = re.compile(r\"[#@]\\w+\")    # suppression des hashtags et @"
      ],
      "execution_count": null,
      "outputs": []
    },
    {
      "cell_type": "code",
      "metadata": {
        "colab": {
          "base_uri": "https://localhost:8080/",
          "height": 35
        },
        "id": "vdwCZ4qCx3NN",
        "outputId": "57664877-5967-430c-efde-0707cf03c82f"
      },
      "source": [
        "test_hashtags = \"#Fuck ça #ne marche @pas !!\"\n",
        "re.sub(regexp_hashtags, \"\", test_hashtags)"
      ],
      "execution_count": null,
      "outputs": [
        {
          "output_type": "execute_result",
          "data": {
            "application/vnd.google.colaboratory.intrinsic+json": {
              "type": "string"
            },
            "text/plain": [
              "' ça  marche  !!'"
            ]
          },
          "metadata": {
            "tags": []
          },
          "execution_count": 31
        }
      ]
    },
    {
      "cell_type": "markdown",
      "metadata": {
        "id": "6nxhbp6BtLeK"
      },
      "source": [
        "Création de la fonction de nettoyage du texte \n",
        "\n",
        "**TODO** : coder la fonction qui prend en entrée un tweet et  \n",
        "- met les mots en minuscule\n",
        "- supprime les mots des expressions régulières\n",
        "- supprime les ponctuations\n",
        "- supprime les stopwords\n",
        "- lemmatise"
      ]
    },
    {
      "cell_type": "code",
      "metadata": {
        "id": "E5ewxEkoNZrM"
      },
      "source": [
        "def remove_punct(doc):\n",
        "  return [token for token in doc if not token.is_punct]\n",
        "\n",
        "\n",
        "def remove_stop_words(doc):\n",
        "  return [token for token in doc if not token.is_stop]\n",
        "\n",
        "\n",
        "def lemmatize(doc):\n",
        "   return ' '.join([token.lemma_ for token in doc])"
      ],
      "execution_count": null,
      "outputs": []
    },
    {
      "cell_type": "code",
      "metadata": {
        "id": "g003RzZtuZjs"
      },
      "source": [
        "def preprocess_tweet(text, lemmatizing=True, delete_pos=False) : \n",
        "\n",
        "  '''Fonction permettant de nettoyer le texte. Elle renvoie un string (pas de tokenisation encore)'''\n",
        "  \n",
        "  emojis_converted = convert_emojis(text)\n",
        "  french_flag_added = re.sub(regexp_frenchflag, \"french_flag\", emojis_converted)\n",
        "  text_to_lower = french_flag_added.lower().encode('utf-8').decode('utf-8')\n",
        "  text_no_link = re.sub(regexp_link, \"\", text_to_lower)\n",
        "  text_no_hastags = re.sub(regexp_hashtags, \"\", text_no_link)\n",
        "  \n",
        "  # utilisation de spacy\n",
        "  doc = nlp(text_no_hastags)\n",
        "  removed_punct = remove_punct(doc)\n",
        "  preprocessed_tweet = remove_stop_words(removed_punct)\n",
        "  if lemmatizing :\n",
        "    preprocessed_tweet = lemmatize(preprocessed_tweet)\n",
        "    \n",
        "  return(preprocessed_tweet)"
      ],
      "execution_count": null,
      "outputs": []
    },
    {
      "cell_type": "code",
      "metadata": {
        "colab": {
          "base_uri": "https://localhost:8080/",
          "height": 35
        },
        "id": "Q29TpjgduNNn",
        "outputId": "a2873fe7-f330-4c4e-fa92-ab4085e4c167"
      },
      "source": [
        "# exemple pour tester sa fonction \n",
        "tweet_test = \"Ils Pensaient se moquer #non, ils m'ont donné un slogan !😄 \\n\\n- Entretien à découvrir et partager \\n\\nhttps://t.co/Yn60Areagu\"\n",
        "preprocess_tweet(tweet_test, lemmatizing=True, delete_pos=False)"
      ],
      "execution_count": null,
      "outputs": [
        {
          "output_type": "execute_result",
          "data": {
            "application/vnd.google.colaboratory.intrinsic+json": {
              "type": "string"
            },
            "text/plain": [
              "'pensaient moquer donner slogan emot_smiling_face_with_open_mouth_smiling_eyes entretien découvrir partager'"
            ]
          },
          "metadata": {
            "tags": []
          },
          "execution_count": 34
        }
      ]
    },
    {
      "cell_type": "markdown",
      "metadata": {
        "id": "EM7IBszTuzPI"
      },
      "source": [
        "\n",
        "Réponse attendue : \n",
        "```python \n",
        "'pensaient moquer donner slogan emot_smiling_face_with_open_mouth_smiling_eyes entretien découvrir partager'\n",
        "```"
      ]
    },
    {
      "cell_type": "code",
      "metadata": {
        "id": "yIm-BrUhur1c"
      },
      "source": [
        "# On peut alors nettoyer nos tweets, et créer une nouvelle colonne, text_preprocess\n",
        "# cela peut prendre un peu de temps... \n",
        "df_tweets[\"text_preprocess\"] = df_tweets[\"text\"].apply(lambda tweet : preprocess_tweet(tweet))"
      ],
      "execution_count": null,
      "outputs": []
    },
    {
      "cell_type": "code",
      "metadata": {
        "colab": {
          "base_uri": "https://localhost:8080/",
          "height": 391
        },
        "id": "I9r8M8v7TClI",
        "outputId": "a08e5f6d-11d0-4f0e-aeca-1050ae1e8c72"
      },
      "source": [
        "# On regarde le résultat du nettoyage du texte\n",
        "pd.set_option(\"max_colwidth\", None)\n",
        "df_tweets[[\"text\", \"text_preprocess\"]].head(5)"
      ],
      "execution_count": null,
      "outputs": [
        {
          "output_type": "execute_result",
          "data": {
            "text/html": [
              "<div>\n",
              "<style scoped>\n",
              "    .dataframe tbody tr th:only-of-type {\n",
              "        vertical-align: middle;\n",
              "    }\n",
              "\n",
              "    .dataframe tbody tr th {\n",
              "        vertical-align: top;\n",
              "    }\n",
              "\n",
              "    .dataframe thead th {\n",
              "        text-align: right;\n",
              "    }\n",
              "</style>\n",
              "<table border=\"1\" class=\"dataframe\">\n",
              "  <thead>\n",
              "    <tr style=\"text-align: right;\">\n",
              "      <th></th>\n",
              "      <th>text</th>\n",
              "      <th>text_preprocess</th>\n",
              "    </tr>\n",
              "  </thead>\n",
              "  <tbody>\n",
              "    <tr>\n",
              "      <th>0</th>\n",
              "      <td>Il faut imaginer une autre façon de vivre. #OEED https://t.co/LcMraG4YT8</td>\n",
              "      <td>falloir imaginer vivre</td>\n",
              "    </tr>\n",
              "    <tr>\n",
              "      <th>1</th>\n",
              "      <td>Ils ont transformé le Bac en marchandise. Et voyez-vous, quand vous n'avez que cette possibilité pour vous élever dans la vie en étudiant sérieusement pour avoir un diplôme, vous êtes à cran quand il est question de rétablir une différence de classe. #OEED https://t.co/nbNVlhVSU7</td>\n",
              "      <td>transformer bac marchandise voyez avoir possibilité élever vie étudier sérieusement diplôme être cran question rétablir différence classe</td>\n",
              "    </tr>\n",
              "    <tr>\n",
              "      <th>2</th>\n",
              "      <td>La Commune appartient à l'histoire de France. Comme le pouvoir officiel est incapable de faire quoi que ce soit alors les gens s'organisent. La magie du moment c'est que les gens règlent les problèmes concrets eux-mêmes et se mettent à produire une masse de décisions. #OEED https://t.co/EmHaEJKSa3</td>\n",
              "      <td>commune appartenir histoire france pouvoir officiel incapable faire organiser magie moment régler problème concret mettre produire masse décision</td>\n",
              "    </tr>\n",
              "    <tr>\n",
              "      <th>3</th>\n",
              "      <td>Ce qui compte c'est les idées, et plus exactement ce qu'on va faire pour ce pays. Par conséquent, on ne peut pas faire des soupes aux logos dans lesquelles, pour pouvoir s'entendre, on se tait sur tout. #OEED https://t.co/QvNsSbZ0v6</td>\n",
              "      <td>compte idée faire pays conséquent faire soupe logo pouvoir entendre taire</td>\n",
              "    </tr>\n",
              "    <tr>\n",
              "      <th>4</th>\n",
              "      <td>La situation des étudiants était prévisible. Au mois de mai, des députés insoumis ont mis au point un plan pour les aider. Il faut les tirer de la précarité, il y a urgence. Commençons par la question matérielle en donnant le RSA aux jeunes de 18 à 25 ans. #OEED https://t.co/vEMFH7pc9v</td>\n",
              "      <td>situation étudiant prévisible mois mai député insoumis mettre point plan aider falloir tirer précarité y urgence commencer question matériel donner rsa jeune 18 25 an</td>\n",
              "    </tr>\n",
              "  </tbody>\n",
              "</table>\n",
              "</div>"
            ],
            "text/plain": [
              "                                                                                                                                                                                                                                                                                                         text                                                                                                                                                           text_preprocess\n",
              "0                                                                                                                                                                                                                                    Il faut imaginer une autre façon de vivre. #OEED https://t.co/LcMraG4YT8                                                                                                                                                  falloir imaginer vivre  \n",
              "1                    Ils ont transformé le Bac en marchandise. Et voyez-vous, quand vous n'avez que cette possibilité pour vous élever dans la vie en étudiant sérieusement pour avoir un diplôme, vous êtes à cran quand il est question de rétablir une différence de classe. #OEED https://t.co/nbNVlhVSU7                               transformer bac marchandise voyez avoir possibilité élever vie étudier sérieusement diplôme être cran question rétablir différence classe  \n",
              "2  La Commune appartient à l'histoire de France. Comme le pouvoir officiel est incapable de faire quoi que ce soit alors les gens s'organisent. La magie du moment c'est que les gens règlent les problèmes concrets eux-mêmes et se mettent à produire une masse de décisions. #OEED https://t.co/EmHaEJKSa3                       commune appartenir histoire france pouvoir officiel incapable faire organiser magie moment régler problème concret mettre produire masse décision  \n",
              "3                                                                    Ce qui compte c'est les idées, et plus exactement ce qu'on va faire pour ce pays. Par conséquent, on ne peut pas faire des soupes aux logos dans lesquelles, pour pouvoir s'entendre, on se tait sur tout. #OEED https://t.co/QvNsSbZ0v6                                                                                               compte idée faire pays conséquent faire soupe logo pouvoir entendre taire  \n",
              "4              La situation des étudiants était prévisible. Au mois de mai, des députés insoumis ont mis au point un plan pour les aider. Il faut les tirer de la précarité, il y a urgence. Commençons par la question matérielle en donnant le RSA aux jeunes de 18 à 25 ans. #OEED https://t.co/vEMFH7pc9v  situation étudiant prévisible mois mai député insoumis mettre point plan aider falloir tirer précarité y urgence commencer question matériel donner rsa jeune 18 25 an  "
            ]
          },
          "metadata": {
            "tags": []
          },
          "execution_count": 36
        }
      ]
    },
    {
      "cell_type": "markdown",
      "metadata": {
        "id": "mqmUh_akXtYQ"
      },
      "source": [
        "\n",
        "> Le preprocess n'est pas encore parfait, on pourrait enlever les verbes avec du pos-tagging"
      ]
    },
    {
      "cell_type": "markdown",
      "metadata": {
        "id": "B2ksZmsUUvxg"
      },
      "source": [
        "### Tokenisation\n",
        "On tokenise la colonne de tweets prétraités (preprocess)\n",
        "\n",
        "**TODO** : utiliser le module nltk pour tokeniser un tweet avec la fonction tokenisation"
      ]
    },
    {
      "cell_type": "code",
      "metadata": {
        "colab": {
          "base_uri": "https://localhost:8080/"
        },
        "id": "IRQwweO9qYup",
        "outputId": "ec048707-dcc7-413b-b046-aaecf42672f9"
      },
      "source": [
        "nltk.download('punkt') # nécessaire pour la tokenisation"
      ],
      "execution_count": null,
      "outputs": [
        {
          "output_type": "stream",
          "text": [
            "[nltk_data] Downloading package punkt to /root/nltk_data...\n",
            "[nltk_data]   Unzipping tokenizers/punkt.zip.\n"
          ],
          "name": "stdout"
        },
        {
          "output_type": "execute_result",
          "data": {
            "text/plain": [
              "True"
            ]
          },
          "metadata": {
            "tags": []
          },
          "execution_count": 37
        }
      ]
    },
    {
      "cell_type": "code",
      "metadata": {
        "id": "Q8hFhNcRyQs7"
      },
      "source": [
        "# Remplir le None dans le code\n",
        "def tokenisation(tweet):\n",
        "  tweet_tokenized = nltk.word_tokenize(tweet)\n",
        "  return(tweet_tokenized)"
      ],
      "execution_count": null,
      "outputs": []
    },
    {
      "cell_type": "code",
      "metadata": {
        "id": "AJYs9NjVs7G9"
      },
      "source": [
        "# On peut alors tokeniser nos tweets, et créer une nouvelle colonne, tokens\n",
        "df_tweets[\"tokens\"] = df_tweets[\"text_preprocess\"].apply(lambda tweet : tokenisation(tweet))"
      ],
      "execution_count": null,
      "outputs": []
    },
    {
      "cell_type": "code",
      "metadata": {
        "colab": {
          "base_uri": "https://localhost:8080/",
          "height": 323
        },
        "id": "GyYvPnp9cQdG",
        "outputId": "a41009b0-e503-40a2-9e45-7dcfb267a461"
      },
      "source": [
        "# On regarde le résultat de la tokenisation\n",
        "df_tweets[[\"text_preprocess\", \"tokens\"]].head()"
      ],
      "execution_count": null,
      "outputs": [
        {
          "output_type": "execute_result",
          "data": {
            "text/html": [
              "<div>\n",
              "<style scoped>\n",
              "    .dataframe tbody tr th:only-of-type {\n",
              "        vertical-align: middle;\n",
              "    }\n",
              "\n",
              "    .dataframe tbody tr th {\n",
              "        vertical-align: top;\n",
              "    }\n",
              "\n",
              "    .dataframe thead th {\n",
              "        text-align: right;\n",
              "    }\n",
              "</style>\n",
              "<table border=\"1\" class=\"dataframe\">\n",
              "  <thead>\n",
              "    <tr style=\"text-align: right;\">\n",
              "      <th></th>\n",
              "      <th>text_preprocess</th>\n",
              "      <th>tokens</th>\n",
              "    </tr>\n",
              "  </thead>\n",
              "  <tbody>\n",
              "    <tr>\n",
              "      <th>0</th>\n",
              "      <td>falloir imaginer vivre</td>\n",
              "      <td>[falloir, imaginer, vivre]</td>\n",
              "    </tr>\n",
              "    <tr>\n",
              "      <th>1</th>\n",
              "      <td>transformer bac marchandise voyez avoir possibilité élever vie étudier sérieusement diplôme être cran question rétablir différence classe</td>\n",
              "      <td>[transformer, bac, marchandise, voyez, avoir, possibilité, élever, vie, étudier, sérieusement, diplôme, être, cran, question, rétablir, différence, classe]</td>\n",
              "    </tr>\n",
              "    <tr>\n",
              "      <th>2</th>\n",
              "      <td>commune appartenir histoire france pouvoir officiel incapable faire organiser magie moment régler problème concret mettre produire masse décision</td>\n",
              "      <td>[commune, appartenir, histoire, france, pouvoir, officiel, incapable, faire, organiser, magie, moment, régler, problème, concret, mettre, produire, masse, décision]</td>\n",
              "    </tr>\n",
              "    <tr>\n",
              "      <th>3</th>\n",
              "      <td>compte idée faire pays conséquent faire soupe logo pouvoir entendre taire</td>\n",
              "      <td>[compte, idée, faire, pays, conséquent, faire, soupe, logo, pouvoir, entendre, taire]</td>\n",
              "    </tr>\n",
              "    <tr>\n",
              "      <th>4</th>\n",
              "      <td>situation étudiant prévisible mois mai député insoumis mettre point plan aider falloir tirer précarité y urgence commencer question matériel donner rsa jeune 18 25 an</td>\n",
              "      <td>[situation, étudiant, prévisible, mois, mai, député, insoumis, mettre, point, plan, aider, falloir, tirer, précarité, y, urgence, commencer, question, matériel, donner, rsa, jeune, 18, 25, an]</td>\n",
              "    </tr>\n",
              "  </tbody>\n",
              "</table>\n",
              "</div>"
            ],
            "text/plain": [
              "                                                                                                                                                            text_preprocess                                                                                                                                                                                            tokens\n",
              "0                                                                                                                                                  falloir imaginer vivre                                                                                                                                                                          [falloir, imaginer, vivre]\n",
              "1                               transformer bac marchandise voyez avoir possibilité élever vie étudier sérieusement diplôme être cran question rétablir différence classe                                         [transformer, bac, marchandise, voyez, avoir, possibilité, élever, vie, étudier, sérieusement, diplôme, être, cran, question, rétablir, différence, classe]\n",
              "2                       commune appartenir histoire france pouvoir officiel incapable faire organiser magie moment régler problème concret mettre produire masse décision                                [commune, appartenir, histoire, france, pouvoir, officiel, incapable, faire, organiser, magie, moment, régler, problème, concret, mettre, produire, masse, décision]\n",
              "3                                                                                               compte idée faire pays conséquent faire soupe logo pouvoir entendre taire                                                                                                               [compte, idée, faire, pays, conséquent, faire, soupe, logo, pouvoir, entendre, taire]\n",
              "4  situation étudiant prévisible mois mai député insoumis mettre point plan aider falloir tirer précarité y urgence commencer question matériel donner rsa jeune 18 25 an    [situation, étudiant, prévisible, mois, mai, député, insoumis, mettre, point, plan, aider, falloir, tirer, précarité, y, urgence, commencer, question, matériel, donner, rsa, jeune, 18, 25, an]"
            ]
          },
          "metadata": {
            "tags": []
          },
          "execution_count": 40
        }
      ]
    },
    {
      "cell_type": "markdown",
      "metadata": {
        "id": "c9Ej6e6-08cE"
      },
      "source": [
        "### Analyse du preprocess\n",
        "\n",
        "On regarde un peu les résultats du preprocessing : \n",
        "- combien y a-t-il de mots distincts pour chacun des deux hommes politiques ? \n",
        "- Quels sont les mots les plus utilisés par JLM et MLP ? \n",
        "\n",
        "Pour cela vous vous aiderez des deux fonctions données ci-dessous"
      ]
    },
    {
      "cell_type": "code",
      "metadata": {
        "id": "O4N6HGJWOHcW"
      },
      "source": [
        "def create_big_tweet_by_userid(userid, col_text) : \n",
        "  ''' Fonction pour mettre tous les tweets de chaque politiciens dans un même text (string) '''\n",
        "  one_big_tweet = \" \".join(df_tweets.loc[df_tweets[\"user_id\"] == userid, col_text])\n",
        "  return(one_big_tweet)"
      ],
      "execution_count": null,
      "outputs": []
    },
    {
      "cell_type": "code",
      "metadata": {
        "id": "711wc14pWEnN"
      },
      "source": [
        " def get_n_most_common_words(list_words, n) :\n",
        "   ''' Fonction permettant de donner les n mots les plus fréquents d'une liste de mots '''\n",
        "   freq_words = nltk.FreqDist(list_words)\n",
        "   print(freq_words.most_common(n))"
      ],
      "execution_count": null,
      "outputs": []
    },
    {
      "cell_type": "markdown",
      "metadata": {
        "id": "5UlRdmV2XAdH"
      },
      "source": [
        "**TODO** : Si on n'utilise pas de preprocessing, quels sont les mots les plus utilisés par les 2 politiciens ?"
      ]
    },
    {
      "cell_type": "code",
      "metadata": {
        "colab": {
          "base_uri": "https://localhost:8080/"
        },
        "id": "CY-y0Vy5VwAi",
        "outputId": "12797fc8-c75f-48f5-c899-5f7be6ee63b8"
      },
      "source": [
        "# Créer un gros tweet pour chacun des deux politiques (qui est la jointure de l'ensemble de ses tweets)\n",
        "one_big_tweet_jlm = create_big_tweet_by_userid('JLMelenchon', 'text')\n",
        "one_big_tweet_mlp = create_big_tweet_by_userid('MLP_officiel', 'text')\n",
        "\n",
        "# Tokeniser le gros tweet de chacun des politiques\n",
        "tokens_jlm = tokenisation(one_big_tweet_jlm)\n",
        "tokens_mlp = tokenisation(one_big_tweet_mlp)\n",
        "\n",
        "# Regarder les 10 mots les plus communs pour chacun des politiques\n",
        "get_n_most_common_words(tokens_jlm, 10)\n",
        "get_n_most_common_words(tokens_mlp, 10)"
      ],
      "execution_count": null,
      "outputs": [
        {
          "output_type": "stream",
          "text": [
            "[('.', 4244), ('de', 2881), ('#', 2817), (':', 2240), ('la', 1963), (',', 1913), ('https', 1650), ('le', 1331), ('à', 1129), ('les', 1022)]\n",
            "[(',', 4488), ('de', 4192), ('#', 3174), (':', 2970), ('’', 2622), ('.', 2531), ('la', 2441), ('https', 2354), ('à', 1943), ('et', 1880)]\n"
          ],
          "name": "stdout"
        }
      ]
    },
    {
      "cell_type": "markdown",
      "metadata": {
        "id": "wnoa-PD0Wt-f"
      },
      "source": [
        "**Réponse** : les mots les plus utilisés sont des stopwords ou des ponctuations"
      ]
    },
    {
      "cell_type": "markdown",
      "metadata": {
        "id": "GLwisYcq12sG"
      },
      "source": [
        "Sans preprocessing, combien y a-t-il de mots distincts pour chaque politique ?"
      ]
    },
    {
      "cell_type": "code",
      "metadata": {
        "colab": {
          "base_uri": "https://localhost:8080/"
        },
        "id": "RSof4c_fX5pm",
        "outputId": "32cb6849-9c41-4e63-90cd-f45781156966"
      },
      "source": [
        "# la fonction set appliquée sur une liste donne une liste d'éléments uniques\n",
        "print(\"Nombre de mots distincts dans les tweets de JL Mélenchon : {}\".format(len(set(tokens_jlm))))\n",
        "print(\"Nombre de mots distincts dans les tweets de Marine Le Pen : {}\".format(len(set(tokens_mlp))))"
      ],
      "execution_count": null,
      "outputs": [
        {
          "output_type": "stream",
          "text": [
            "Nombre de mots distincts dans les tweets de JL Mélenchon : 10568\n",
            "Nombre de mots distincts dans les tweets de Marine Le Pen : 14163\n"
          ],
          "name": "stdout"
        }
      ]
    },
    {
      "cell_type": "markdown",
      "metadata": {
        "id": "63-7MDKW2dVj"
      },
      "source": [
        "**Réponse** : \n",
        "\n",
        "JLM : 10568\\\n",
        "MLP : 14163"
      ]
    },
    {
      "cell_type": "markdown",
      "metadata": {
        "id": "4DIHPg2YXLy-"
      },
      "source": [
        "**TODO** : même question avec un preprocessing ?\n"
      ]
    },
    {
      "cell_type": "code",
      "metadata": {
        "colab": {
          "base_uri": "https://localhost:8080/"
        },
        "id": "TNzWJEz36JMI",
        "outputId": "ee4fa919-22b6-410c-d8e3-2ea3f6f21860"
      },
      "source": [
        "# Créer un gros tweet pour chacun des deux politiques (qui est la jointure de l'ensemble de ses tweets)\n",
        "one_big_tweet_preprocess_jlm = create_big_tweet_by_userid('JLMelenchon', 'text_preprocess')\n",
        "one_big_tweet_preprocess_mlp = create_big_tweet_by_userid('MLP_officiel', 'text_preprocess')\n",
        "\n",
        "# Tokeniser le gros tweet de chacun des politiques\n",
        "tokens_preprocess_jlm = tokenisation(one_big_tweet_preprocess_jlm)\n",
        "tokens_preprocess_mlp = tokenisation(one_big_tweet_preprocess_mlp)\n",
        "\n",
        "# Regarder les 10 mots les plus communs pour chacun des politiques\n",
        "get_n_most_common_words(tokens_preprocess_jlm, 10)\n",
        "get_n_most_common_words(tokens_preprocess_mlp, 10)"
      ],
      "execution_count": null,
      "outputs": [
        {
          "output_type": "stream",
          "text": [
            "[('falloir', 428), ('y', 310), ('faire', 292), ('france', 246), ('être', 166), ('pouvoir', 151), ('vouloir', 140), ('pays', 137), ('mettre', 136), ('️', 125)]\n",
            "[('emot_video_camera', 568), ('français', 502), ('france', 343), ('être', 258), ('y', 255), ('européen', 248), ('gouvernement', 246), ('faire', 241), ('pays', 196), ('politique', 186)]\n"
          ],
          "name": "stdout"
        }
      ]
    },
    {
      "cell_type": "code",
      "metadata": {
        "id": "vP0H0WW22G1K"
      },
      "source": [
        "print(\"Nombre de mots distincts dans les tweets de JL Mélenchon : {}\".format(len(set(tokens_preprocess_jlm))))\n",
        "print(\"Nombre de mots distincts dans les tweets de Marine Le Pen : {}\".format(len(set(tokens_preprocess_mlp))))"
      ],
      "execution_count": null,
      "outputs": []
    },
    {
      "cell_type": "markdown",
      "metadata": {
        "id": "JGzpTmsM8yAE"
      },
      "source": [
        "**Réponse** : \n",
        "\n",
        "JLM : 5531\\\n",
        "MLP : 6787"
      ]
    },
    {
      "cell_type": "markdown",
      "metadata": {
        "id": "tF4dqxlPnXcy"
      },
      "source": [
        "### Nuage de mots\n",
        "\n",
        "On trace un nuage de mots pour chacun des politiques pour voir ce qui ressort"
      ]
    },
    {
      "cell_type": "markdown",
      "metadata": {
        "id": "9lT7zjMCGHoW"
      },
      "source": [
        "**#TODO** : Faire un nuage de mots pour JLM et MLP avec 30 mots"
      ]
    },
    {
      "cell_type": "code",
      "metadata": {
        "id": "fA9UVQYHPtWA"
      },
      "source": [
        "def create_wordcloud(text, nb_words):\n",
        "  wordcloud = WordCloud(max_words=nb_words, background_color=\"white\").generate(text)\n",
        "  plt.figure()\n",
        "  plt.imshow(wordcloud, interpolation=\"bilinear\")\n",
        "  plt.axis(\"off\")\n",
        "  plt.show()"
      ],
      "execution_count": null,
      "outputs": []
    },
    {
      "cell_type": "code",
      "metadata": {
        "colab": {
          "base_uri": "https://localhost:8080/",
          "height": 215
        },
        "id": "C12i7alUnWa_",
        "outputId": "2287e17b-a097-43c3-963a-fd0d386b993b"
      },
      "source": [
        "lemat_jlm = \" \".join(df_tweets.loc[df_tweets.user_id==\"JLMelenchon\", \"text_preprocess\"])\n",
        "print(\"Wordcloud des mots lemmatisés de l'ensemble des tweets de Jean-Luc Mélenchon\")\n",
        "create_wordcloud(lemat_jlm, 30)"
      ],
      "execution_count": null,
      "outputs": [
        {
          "output_type": "stream",
          "text": [
            "Wordcloud des mots lemmatisés de l'ensemble des tweets de Jean-Luc Mélenchon\n"
          ],
          "name": "stdout"
        },
        {
          "output_type": "display_data",
          "data": {
            "image/png": "[encoded data removed]",
            "text/plain": [
              "<Figure size 432x288 with 1 Axes>"
            ]
          },
          "metadata": {
            "tags": [],
            "needs_background": "light"
          }
        }
      ]
    },
    {
      "cell_type": "code",
      "metadata": {
        "colab": {
          "base_uri": "https://localhost:8080/",
          "height": 215
        },
        "id": "aogPxGLjoYG1",
        "outputId": "3f635da2-7739-4dea-9460-7535712719a0"
      },
      "source": [
        "lemat_mlp = \" \".join(df_tweets.loc[df_tweets.user_id==\"MLP_officiel\", \"text_preprocess\"])\n",
        "print(\"Wordcloud des mots lemmatisés de l'ensemble des tweets de Marine Le Pen\")\n",
        "create_wordcloud(lemat_mlp, 30)"
      ],
      "execution_count": null,
      "outputs": [
        {
          "output_type": "stream",
          "text": [
            "Wordcloud des mots lemmatisés de l'ensemble des tweets de Marine Le Pen\n"
          ],
          "name": "stdout"
        },
        {
          "output_type": "display_data",
          "data": {
            "image/png": "[encoded data removed]",
            "text/plain": [
              "<Figure size 432x288 with 1 Axes>"
            ]
          },
          "metadata": {
            "tags": [],
            "needs_background": "light"
          }
        }
      ]
    },
    {
      "cell_type": "markdown",
      "metadata": {
        "id": "GuxgMTF3Oo4T"
      },
      "source": [
        "C'est bien beau, mais c'est difficile à analyser, et surtout à comparer... \\\n",
        "On va utiliser scattertext pour comparer réellement le vocabulaire des 2 politiques."
      ]
    },
    {
      "cell_type": "markdown",
      "metadata": {
        "id": "wIIsh5K3iSnx"
      },
      "source": [
        "## **4. Scattertext**\n",
        "\n",
        "Grâce à Scattertext, on va pouvoir comparer de manière visuelle la distinction de vocabulaire utilisé par MLP et JLM. \n"
      ]
    },
    {
      "cell_type": "markdown",
      "metadata": {
        "id": "0TE5QCkLHvDb"
      },
      "source": [
        "On doit d'abord construire un corpus avec nos données : \n",
        "- donner la variable de catégorie \n",
        "- donner la variable du texte\n",
        "\n",
        "On peut rajouter le partie ```.compact(st.AssociationCompactor(4000))``` pour ne prendre en compte que les 4000 mots les plus importants dans le scattertext.\n",
        "\n",
        "**TODO** : créer le corpus avec la fonction donnée ci-dessous"
      ]
    },
    {
      "cell_type": "code",
      "metadata": {
        "id": "6CPhJNikb6Wp"
      },
      "source": [
        "# on crée un objet corpus pour scattertext\n",
        "corpus = st.CorpusFromPandas(data_frame = df_tweets.loc[df_tweets.user_id != \"EmmanuelMacron\"],\n",
        "                             category_col = \"user_id\",\n",
        "                             text_col = \"text_preprocess\",\n",
        "                             nlp = nlp).build().compact(st.AssociationCompactor(4000))"
      ],
      "execution_count": null,
      "outputs": []
    },
    {
      "cell_type": "markdown",
      "metadata": {
        "id": "QpCPtMrId1zV"
      },
      "source": [
        "Une fois le corpus créé, on peut créer le html avec le scattertext.\n",
        " \n",
        "On utilise la fonction ```st.produce_scattertext_explorer``` en donnant les paramètres vus pendant le cours : \n",
        "- term_ranker\n",
        "- term_scorer\n",
        "- transform \n",
        "\n",
        "**TODO** : remplir la fonction en réfléchissant aux paramètres que vous voulez tester."
      ]
    },
    {
      "cell_type": "code",
      "metadata": {
        "colab": {
          "base_uri": "https://localhost:8080/"
        },
        "id": "-RWsqgPatg5v",
        "outputId": "8474c9cb-6f40-4129-d6a2-adec7734a03d"
      },
      "source": [
        "# On crée le html du scattertext\n",
        "html = st.produce_scattertext_explorer(  corpus\n",
        "                                       , category                  = 'JLMelenchon'\n",
        "                                       , category_name             = 'Jean Luc Mélenchon'\n",
        "                                       , not_category_name         = 'Marine Le Pen'\n",
        "                                       , minimum_term_frequency    = 10\n",
        "                                       , pmi_threshold_coefficient = 1\n",
        "                                       , term_ranker               = st.AbsoluteFrequencyRanker\n",
        "                                       , transform                 = st.Scalers.dense_rank\n",
        "                                       , term_scorer               = st.RankDifference() \n",
        "#on peut égalemet tester le term_scorer ScaledFscore : st.ScaledFScorePresets(beta=1, one_to_neg_one=True)\n",
        "                                       , width_in_pixels           = 1000\n",
        "                                       )\n",
        "\n",
        "# On enregistre le html\n",
        "open(\"tweets_visualisation.html\", 'wb').write(html.encode('utf-8'))"
      ],
      "execution_count": null,
      "outputs": [
        {
          "output_type": "execute_result",
          "data": {
            "text/plain": [
              "1387283"
            ]
          },
          "metadata": {
            "tags": []
          },
          "execution_count": 50
        }
      ]
    },
    {
      "cell_type": "markdown",
      "metadata": {
        "id": "FqieNcsrJ7DH"
      },
      "source": [
        "**TODO** : regarder le résultat (il apparaitra normalement dans le dossier content du notebook) en téléchargeant le html (cela peut prendre un petit moment avant de s'afficher correctement).\n",
        "\n",
        "**Question** : On peut voir :\n",
        "- les mots \"stopwords\" apparaitre en haut à droite : des verbes ainsi que des mots très utilisés dans le langage politique (\"pays\", \"politique\")\n",
        "- En bas à droite, il y a les mots associés à MLP : \"islamisme\", \"immigration\", \"nation\", \"frontière\", drapeau français, et émojis\n",
        "- En haut à gauche, il y a les mots associés à JLM : \"dette\", \"monsieur\", \"police\", \"programme\", \"commun\", \"insoumis\""
      ]
    },
    {
      "cell_type": "markdown",
      "metadata": {
        "id": "2KA3He08v2in"
      },
      "source": [
        "## **5. Modélisation**\n",
        "\n",
        "On souhaite prédire si un tweet provient du compte de Marine Le Pen, de Jean Luc Mélenchon ou d'Emmanuel Macron. Pour cela, on a besoin de : \n",
        "- Créer un échantillon train / dev\n",
        "- préparer le text (préprocessing)\n",
        "- créer des features (plusieurs méthodes : counts of words, tfidf ou autre)\n",
        "- réaliser l'algorithme\n",
        "- évaluer la performance du modèle "
      ]
    },
    {
      "cell_type": "markdown",
      "metadata": {
        "id": "54J4-pgJqsEa"
      },
      "source": [
        "### Création des échantillons \n",
        "\n",
        "**TODO** : créer un échantillon train (70% du jeu de données total) et un échantillon test "
      ]
    },
    {
      "cell_type": "markdown",
      "metadata": {
        "id": "8YO7cfe6QT9f"
      },
      "source": [
        "<details>    \n",
        "<summary>\n",
        "    <font size=\"3\" color=\"darkgreen\"><b>Aide</b></font>\n",
        "</summary>\n",
        "<p>\n",
        "<ul>\n",
        "  <li> Utilisez la fonction <a href=\"https://scikit-learn.org/stable/modules/generated/sklearn.model_selection.train_test_split.html\" >train_test_split</a></li>\n",
        "  <li> Prenez la colonne déjà tokenisés</li>\n",
        "</p> "
      ]
    },
    {
      "cell_type": "code",
      "metadata": {
        "id": "FCnSMLCMqrX7"
      },
      "source": [
        "X_train, X_test, y_train, y_test = train_test_split(df_tweets[\"text_preprocess\"],\n",
        "                                                    df_tweets[\"user_id\"], \n",
        "                                                    test_size=0.3, \n",
        "                                                    random_state=123)"
      ],
      "execution_count": null,
      "outputs": []
    },
    {
      "cell_type": "code",
      "metadata": {
        "colab": {
          "base_uri": "https://localhost:8080/"
        },
        "id": "ppRbfbs7NxHq",
        "outputId": "85bb13e3-1099-46cb-cb31-be41cee2f91f"
      },
      "source": [
        "# on vérifie que la répartition entre les user \n",
        "print(y_train.value_counts(normalize=True))\n",
        "print(\"\\n\")\n",
        "print(y_test.value_counts(normalize=True))"
      ],
      "execution_count": null,
      "outputs": [
        {
          "output_type": "stream",
          "text": [
            "EmmanuelMacron    0.372840\n",
            "MLP_officiel      0.339402\n",
            "JLMelenchon       0.287758\n",
            "Name: user_id, dtype: float64\n",
            "\n",
            "\n",
            "EmmanuelMacron    0.385782\n",
            "MLP_officiel      0.317295\n",
            "JLMelenchon       0.296922\n",
            "Name: user_id, dtype: float64\n"
          ],
          "name": "stdout"
        }
      ]
    },
    {
      "cell_type": "markdown",
      "metadata": {
        "id": "5_y1-o2fuEh6"
      },
      "source": [
        "Les données sont plutôt équilibrées "
      ]
    },
    {
      "cell_type": "markdown",
      "metadata": {
        "id": "m49CqIaum2oc"
      },
      "source": [
        "### Modèle de régression multinomiale sans gridsearch \n",
        "\n",
        "- Transformer le texte de X_train et X_test en vecteurs pour le modèle\n",
        "- Utiliser la régression logistique multinomiale avec les paramètres par défaut\n",
        "- Regarder les hyperparamètres par défaut sélectionnés\n",
        "- Regarder le score sur l'échantillon test\n",
        "\n",
        "**#TODO** : transformer X_train pour que ce ne soit plus des tweets, mais des vecteurs grâce à <a href=\"https://scikit-learn.org/stable/modules/generated/sklearn.feature_extraction.text.TfidfVectorizer.html\" >TfidfVectorizer</a> (vous pouvez regarder les paramètres associés à la fonction)"
      ]
    },
    {
      "cell_type": "code",
      "metadata": {
        "id": "qPFgyXknrVrt"
      },
      "source": [
        "#TODO\n",
        "vectorizer = TfidfVectorizer(max_df=0.9, min_df=0, ngram_range=(1, 2))\n",
        "X_train = vectorizer.fit_transform(X_train)"
      ],
      "execution_count": null,
      "outputs": []
    },
    {
      "cell_type": "markdown",
      "metadata": {
        "id": "CSggfrDj1pNB"
      },
      "source": [
        "La fonction TfidfVectorizer a des paramètres que vous pouvez choisir : \n",
        "- Combien de n-grams : vous considérez mot par mot ou bien également des groupes de 2 mots\n",
        "- max_df : si vous voulez enlever un pourcentage de mots les plus fréquents\n",
        "- min_df : si vous voulez enlever un pourcentage de mots les moins fréquents"
      ]
    },
    {
      "cell_type": "code",
      "metadata": {
        "colab": {
          "base_uri": "https://localhost:8080/"
        },
        "id": "Fu5llIt-1wNc",
        "outputId": "e15327b1-31a3-4225-d123-a3bf059df1a5"
      },
      "source": [
        "# vous pouvez tester avec ngram_range =(1,2) ou ngram_range=1, \n",
        "# pour voir le nombre de variables créées dans le X_train \n",
        "# (attention, faites retourner le train_test_split avant)\n",
        "X_train.shape"
      ],
      "execution_count": null,
      "outputs": [
        {
          "output_type": "execute_result",
          "data": {
            "text/plain": [
              "(5383, 68305)"
            ]
          },
          "metadata": {
            "tags": []
          },
          "execution_count": 54
        }
      ]
    },
    {
      "cell_type": "markdown",
      "metadata": {
        "id": "vC0MPDkft3yt"
      },
      "source": [
        "**#TODO** : créer le modèle de régression logistique (OVR) et entrainer le modèle sur les données d'apprentissage"
      ]
    },
    {
      "cell_type": "code",
      "metadata": {
        "id": "ooeBcE50m2Hu"
      },
      "source": [
        "# initialiser le modèle \n",
        "model = LogisticRegression(multi_class=\"ovr\")\n",
        "\n",
        "# entrainer le modèle avec les données d'apprentissage\n",
        "model_without_grids = model.fit(X_train, y_train)"
      ],
      "execution_count": null,
      "outputs": []
    },
    {
      "cell_type": "code",
      "metadata": {
        "colab": {
          "base_uri": "https://localhost:8080/"
        },
        "id": "ImTsFkXMscd0",
        "outputId": "e4828906-7114-4748-a198-3ff22b3c0a18"
      },
      "source": [
        "# vous pouvez voir les paramètres du modèle \n",
        "model_without_grids"
      ],
      "execution_count": null,
      "outputs": [
        {
          "output_type": "execute_result",
          "data": {
            "text/plain": [
              "LogisticRegression(C=1.0, class_weight=None, dual=False, fit_intercept=True,\n",
              "                   intercept_scaling=1, l1_ratio=None, max_iter=100,\n",
              "                   multi_class='ovr', n_jobs=None, penalty='l2',\n",
              "                   random_state=None, solver='lbfgs', tol=0.0001, verbose=0,\n",
              "                   warm_start=False)"
            ]
          },
          "metadata": {
            "tags": []
          },
          "execution_count": 56
        }
      ]
    },
    {
      "cell_type": "markdown",
      "metadata": {
        "id": "QXMmArVe4y_K"
      },
      "source": [
        "Attention, la régression logistique de scikit learn permet de faire des modèles plus complexes qu'une régression logistique normale que vous avez vu en cours : avec les paramètres \"penalty\", vous créer en fait un modèle de régression logistique pénalisé (ridge ou lasso). \\\n",
        "<a href=\"https://towardsdatascience.com/the-basics-logistic-regression-and-regularization-828b0d2d206c\" >article sur régression logistique pénalisée</a> \\\n",
        "<a href=\"https://towardsdatascience.com/penalized-regression-with-classification-f60bc663e8dc\" >autre article</a>\n",
        "\n",
        "\n"
      ]
    },
    {
      "cell_type": "markdown",
      "metadata": {
        "id": "TqhVQJDawG4Z"
      },
      "source": [
        "**#TODO** : Regarder la performance du modèle sur l'échantillon test (accuracy)"
      ]
    },
    {
      "cell_type": "markdown",
      "metadata": {
        "id": "Nrt3CnpMwKIF"
      },
      "source": [
        "<details>    \n",
        "<summary>\n",
        "    <font size=\"3\" color=\"darkgreen\"><b>Aide</b></font>\n",
        "</summary>\n",
        "<p>\n",
        "<ul>\n",
        "  <li> N'oubliez pas de transformer le texte de l'échantillon test en vecteur en amont</li>\n",
        "  <li> Vous pouvez utiliser la fonction <a href=\"https://scikit-learn.org/stable/modules/generated/sklearn.linear_model.LogisticRegression.html\">score</a>  du modèle</li>\n",
        "  \n",
        "</p> "
      ]
    },
    {
      "cell_type": "code",
      "metadata": {
        "colab": {
          "base_uri": "https://localhost:8080/"
        },
        "id": "bMxy2pL6sEwP",
        "outputId": "39cf9f73-4d74-4bb7-ebe1-768313f57ac7"
      },
      "source": [
        "X_test = vectorizer.transform(X_test)\n",
        "model_without_grids.score(X_test, y_test) \n",
        "# Mon résultat est : 0.818"
      ],
      "execution_count": null,
      "outputs": [
        {
          "output_type": "execute_result",
          "data": {
            "text/plain": [
              "0.8183788469874296"
            ]
          },
          "metadata": {
            "tags": []
          },
          "execution_count": 57
        }
      ]
    },
    {
      "cell_type": "markdown",
      "metadata": {
        "id": "glgpzlqtxskL"
      },
      "source": [
        "**#TODO** : regarder plus en détail ce que donne le modèle : "
      ]
    },
    {
      "cell_type": "code",
      "metadata": {
        "colab": {
          "base_uri": "https://localhost:8080/"
        },
        "id": "FHWp62vxxopF",
        "outputId": "bd84bea8-6c04-4491-e746-5e8daf32e910"
      },
      "source": [
        "print(\"le 1er tweet de l'échantillon test a été prédit : \")\n",
        "print(model_without_grids.predict(X_test[0]))"
      ],
      "execution_count": null,
      "outputs": [
        {
          "output_type": "stream",
          "text": [
            "le 1er tweet de l'échantillon test a été prédit : \n",
            "['MLP_officiel']\n"
          ],
          "name": "stdout"
        }
      ]
    },
    {
      "cell_type": "code",
      "metadata": {
        "colab": {
          "base_uri": "https://localhost:8080/"
        },
        "id": "TeIqoH-LxzXB",
        "outputId": "61a7b6f6-c929-45a5-948c-9a59e88bb6ee"
      },
      "source": [
        "print(model_without_grids.classes_) # pour connaître l'ordre des classes / des modèles\n",
        "model_without_grids.predict_proba(X_test[0])"
      ],
      "execution_count": null,
      "outputs": [
        {
          "output_type": "stream",
          "text": [
            "['EmmanuelMacron' 'JLMelenchon' 'MLP_officiel']\n"
          ],
          "name": "stdout"
        },
        {
          "output_type": "execute_result",
          "data": {
            "text/plain": [
              "array([[0.24281623, 0.04187058, 0.7153132 ]])"
            ]
          },
          "metadata": {
            "tags": []
          },
          "execution_count": 59
        }
      ]
    },
    {
      "cell_type": "markdown",
      "metadata": {
        "id": "6bKOTlZZx-qf"
      },
      "source": [
        "**Question** : que retourne la ligne de code ci-dessus ?\n",
        "\n",
        "**Réponse** : les résultats des 3 modèles de régression logistique que scikit learn a fait tourner (car on est en One VS rest). \n",
        "\n",
        "On voit donc que le 3e modèle qui prédit MLP VS reste, donne la probabilité la plus élevée (0.71 dans mon cas). Scikit learn prédit donc que le 1er tweet vient du compte de MLP"
      ]
    },
    {
      "cell_type": "markdown",
      "metadata": {
        "id": "byIIfpmBwmdC"
      },
      "source": [
        "### Mise en Gridsearch\n",
        "\n",
        "On veut mettre en place une gridsearch pour sélectionner les meilleurs hyperparamètres qu'on a choisi d'évaluer via la méthode de cross-validation : \n",
        "- on établit d'abord la grille de hyperparamètres que l'on veut tester\n",
        "- on effectue la gridsearch\n",
        "- on regarde les résultats sut l'échantillon test"
      ]
    },
    {
      "cell_type": "code",
      "metadata": {
        "id": "8WdcC9LBw81Q"
      },
      "source": [
        "parameters = {u'C' : (1,20,50), # paramètre devant coefficient de pénalisation (penalty)\n",
        "              u'penalty' : ['l1', 'l2'], # si c'est une régression lasso / ridge\n",
        "              u'max_iter' : [500]\n",
        "              }"
      ],
      "execution_count": null,
      "outputs": []
    },
    {
      "cell_type": "markdown",
      "metadata": {
        "id": "F110FYlG2T5Z"
      },
      "source": [
        "**#TODO** : Entrainer la gridsearch avec les hyperparamètres ci-dessus sur les données d'apprentissage avec de la cross validation\n"
      ]
    },
    {
      "cell_type": "markdown",
      "metadata": {
        "id": "y5lUyVUl2U2f"
      },
      "source": [
        "<details>    \n",
        "<summary>\n",
        "    <font size=\"3\"**texte en gras** color=\"darkgreen\"><b>Aide</b></font>\n",
        "</summary>\n",
        "<p>\n",
        "<ul>\n",
        "  <li> Vous pouvez utiliser la fonction <a href=\"https://scikit-learn.org/stable/modules/generated/sklearn.model_selection.GridSearchCV.html\">GridSearchCV</a></li>\n",
        "  \n",
        "</p> "
      ]
    },
    {
      "cell_type": "code",
      "metadata": {
        "id": "kJ-RA9g_wm3N"
      },
      "source": [
        "grid_search = GridSearchCV(LogisticRegression(multi_class=\"ovr\"), \n",
        "                           parameters,\n",
        "                           cv=10,  # cross validation de 10 échantillons\n",
        "                           n_jobs=-1,\n",
        "                           verbose=1)"
      ],
      "execution_count": null,
      "outputs": []
    },
    {
      "cell_type": "code",
      "metadata": {
        "colab": {
          "base_uri": "https://localhost:8080/"
        },
        "id": "nHTKN1CdyyuF",
        "outputId": "14c9bb2d-8b52-4c93-dc20-642b26d1cf7d"
      },
      "source": [
        "print(u\"Performing grid search...\")\n",
        "print(u\"parameters:\")\n",
        "print(parameters) \n",
        "t0 = time() \n",
        "grid_search.fit(X_train, y_train)\n",
        "print(u\"done in %0.3fs\" % (time() - t0))\n",
        "print(u'')\n",
        "print(u'DEVELOPMENT SET')\n",
        "print(u\"Best score on the train set: %0.3f\" % grid_search.best_score_)\n",
        "print(u\"Best parameters set on the train set:\") \n",
        "best_parameters = grid_search.best_estimator_.get_params()\n",
        "for param_name in sorted(parameters.keys()): \n",
        "  print(u\"\\t%s: %r\" % (param_name, best_parameters[param_name]))"
      ],
      "execution_count": null,
      "outputs": [
        {
          "output_type": "stream",
          "text": [
            "Performing grid search...\n",
            "parameters:\n",
            "{'C': (1, 20, 50), 'penalty': ['l1', 'l2'], 'max_iter': [500]}\n",
            "Fitting 10 folds for each of 6 candidates, totalling 60 fits\n"
          ],
          "name": "stdout"
        },
        {
          "output_type": "stream",
          "text": [
            "[Parallel(n_jobs=-1)]: Using backend LokyBackend with 2 concurrent workers.\n",
            "[Parallel(n_jobs=-1)]: Done  46 tasks      | elapsed:   29.6s\n",
            "[Parallel(n_jobs=-1)]: Done  60 out of  60 | elapsed:   52.5s finished\n"
          ],
          "name": "stderr"
        },
        {
          "output_type": "stream",
          "text": [
            "done in 58.851s\n",
            "\n",
            "DEVELOPMENT SET\n",
            "Best score on the train set: 0.832\n",
            "Best parameters set on the train set:\n",
            "\tC: 50\n",
            "\tmax_iter: 500\n",
            "\tpenalty: 'l2'\n"
          ],
          "name": "stdout"
        }
      ]
    },
    {
      "cell_type": "markdown",
      "metadata": {
        "id": "-Bejy6JR9Hb-"
      },
      "source": [
        "Le modèle avec les hyperparamètres sélectionnés par cross validation a une performance de 0.833 en cross validation"
      ]
    },
    {
      "cell_type": "markdown",
      "metadata": {
        "id": "6_A4x73Z1U3P"
      },
      "source": [
        "**#TODO** : on évalue la performance en calculant l'accuracy du modèle de gridsearch sur l'échantillon test\n",
        "\n"
      ]
    },
    {
      "cell_type": "code",
      "metadata": {
        "colab": {
          "base_uri": "https://localhost:8080/"
        },
        "id": "DImZvEdR1GfT",
        "outputId": "127228d2-f665-40e8-b016-059d78484f4a"
      },
      "source": [
        "grid_search.score(X_test, y_test)"
      ],
      "execution_count": null,
      "outputs": [
        {
          "output_type": "execute_result",
          "data": {
            "text/plain": [
              "0.8274815778066753"
            ]
          },
          "metadata": {
            "tags": []
          },
          "execution_count": 65
        }
      ]
    },
    {
      "cell_type": "markdown",
      "metadata": {
        "id": "jy7DRETf9TNA"
      },
      "source": [
        "Sur l'échantillon test, le modèle a une performance de 0.829"
      ]
    },
    {
      "cell_type": "markdown",
      "metadata": {
        "id": "AOfaMr2nBnp1"
      },
      "source": [
        "### Evaluation de la performance du modèle \n",
        "\n",
        "On va calculer la matrice de confusion sur l'échantillon test"
      ]
    },
    {
      "cell_type": "markdown",
      "metadata": {
        "id": "Si_SnCeJCq36"
      },
      "source": [
        "<details>    \n",
        "<summary>\n",
        "    <font size=\"3\" color=\"darkgreen\"><b>Aide</b></font>\n",
        "</summary>\n",
        "<p>\n",
        "<ul>\n",
        "  <li> Vous pouvez utiliser la fonction <a href=\"https://scikit-learn.org/stable/modules/generated/sklearn.metrics.plot_confusion_matrix.html\" >plot_confusion_matrix</a></li>\n",
        "  \n",
        "</p> "
      ]
    },
    {
      "cell_type": "code",
      "metadata": {
        "colab": {
          "base_uri": "https://localhost:8080/",
          "height": 280
        },
        "id": "Ld_5KZH0nBdC",
        "outputId": "c86bc911-fb1b-4c8a-98be-9b0aaf975198"
      },
      "source": [
        "#matrice de confusion\n",
        "#confrontation entre Y obs. sur l’éch. test et la prédiction\n",
        "disp = plot_confusion_matrix(grid_search, \n",
        "                             X_test, \n",
        "                             y_test,\n",
        "                             cmap=plt.cm.Blues,\n",
        "                             values_format=\".3g\")\n",
        "plt.show()"
      ],
      "execution_count": null,
      "outputs": [
        {
          "output_type": "display_data",
          "data": {
            "image/png": "[encoded data removed]",
            "text/plain": [
              "<Figure size 432x288 with 2 Axes>"
            ]
          },
          "metadata": {
            "tags": [],
            "needs_background": "light"
          }
        }
      ]
    },
    {
      "cell_type": "markdown",
      "metadata": {
        "id": "qp-q0glnCuK4"
      },
      "source": [
        "**#TODO** : Interpréter les résultats "
      ]
    },
    {
      "cell_type": "markdown",
      "metadata": {
        "id": "WjSPIiQB-cCO"
      },
      "source": [
        "**Question** : Sur l'ensemble des tweets de JLM, combien (pourcentage) ont bien été prédits JLM ?  "
      ]
    },
    {
      "cell_type": "markdown",
      "metadata": {
        "id": "IqEqKtK7_CgS"
      },
      "source": [
        "**Réponse** : 79% des tweets de JLM ont été prédits JLM par le modèle. \n",
        "``` \n",
        "539/(539+77+69) \n",
        "```"
      ]
    },
    {
      "cell_type": "code",
      "metadata": {
        "colab": {
          "base_uri": "https://localhost:8080/"
        },
        "id": "yo-BVyqC_wCY",
        "outputId": "38f0ad01-e4ff-4f6e-af2a-f0422dadd9d3"
      },
      "source": [
        "#On peut aussi retrouver le résultat via cette fonction\n",
        "print(classification_report(y_test, grid_search.predict(X_test)))"
      ],
      "execution_count": null,
      "outputs": [
        {
          "output_type": "stream",
          "text": [
            "                precision    recall  f1-score   support\n",
            "\n",
            "EmmanuelMacron       0.84      0.85      0.84       890\n",
            "   JLMelenchon       0.83      0.79      0.81       685\n",
            "  MLP_officiel       0.81      0.83      0.82       732\n",
            "\n",
            "      accuracy                           0.83      2307\n",
            "     macro avg       0.83      0.82      0.83      2307\n",
            "  weighted avg       0.83      0.83      0.83      2307\n",
            "\n"
          ],
          "name": "stdout"
        }
      ]
    },
    {
      "cell_type": "markdown",
      "metadata": {
        "id": "E3r2qKuiBtIR"
      },
      "source": [
        "### Test sur des nouvelles données :\n",
        "\n",
        "Ces quelques tweets ont été récupérés après que la base de données ait été récupérée. Ce sont donc des nouvelles données que le modèle n'a jamais vu.\n",
        "\n",
        "**#TODO** : Qui a publié ces tweets ? "
      ]
    },
    {
      "cell_type": "code",
      "metadata": {
        "id": "fekJoVnh4wWp"
      },
      "source": [
        "new_tweets = [\"On ne peut que condamner le coup d’Etat militaire en Birmanie, qui renvoie ce pays vers une situation que l’on espérait dépassée. Le fonctionnement constitutionnel régulier doit être assuré; Mme Aung San Suu KyI et les personnes arrêtées doivent être libérées sans délai. MLP\", \n",
        "              \"Non ! Les chemins de la raison ne s'ouvrent pas à la faux. Non ! La porte de l'universel ne s'ouvre pas à coups de pieds. Non ! L'amour de la République, comme tout amour, ne vaut rien sous la menace.\", \n",
        "              \"C’est par notre vigilance collective que nous réussirons. Tester, au moindre symptôme. Alerter, pour limiter la propagation. Protéger, en respectant l’isolement.\",\n",
        "              \"Libéré, délivré, je ne mentirai plus jamais ! C'est décidé je m'en vais. L'hiver s'installe doucement dans la nuit, la neige est reine à son tour. Un royaume de solitude.\",\n",
        "              \"Oui, ma gâtée, RS4 gris nardo, bien sûr qu'ils m'ont raté (gros, bien sûr). Soleil dans la bulle, sur le Prado, Shifter pro' (Shifter pro'). Contre-sens (ah), ma chérie, tu es à contre-sens\"]"
      ],
      "execution_count": null,
      "outputs": []
    },
    {
      "cell_type": "code",
      "metadata": {
        "id": "QjgYUZIUHXFv",
        "colab": {
          "base_uri": "https://localhost:8080/"
        },
        "outputId": "9a24454c-a737-4941-9ec8-dc72fdf00b8b"
      },
      "source": [
        "X_mystere = pd.DataFrame(new_tweets, columns=[\"text\"])\n",
        "X_mystere = X_mystere.text.apply(lambda row : preprocess_tweet(row, lemmatizing=True))\n",
        "X_tfidf_mystere = vectorizer.transform(X_mystere)\n",
        "grid_search.predict(X_tfidf_mystere)"
      ],
      "execution_count": null,
      "outputs": [
        {
          "output_type": "execute_result",
          "data": {
            "text/plain": [
              "array(['MLP_officiel', 'JLMelenchon', 'EmmanuelMacron', 'EmmanuelMacron',\n",
              "       'MLP_officiel'], dtype=object)"
            ]
          },
          "metadata": {
            "tags": []
          },
          "execution_count": 69
        }
      ]
    },
    {
      "cell_type": "markdown",
      "metadata": {
        "id": "9DbjKAa07vGo"
      },
      "source": [
        "**Réponse attendue** :\n",
        "\n",
        "```\n",
        "array(['MLP_officiel', 'JLMelenchon', 'EmmanuelMacron', 'EmmanuelMacron',\n",
        "       'MLP_officiel'], dtype=object)\n",
        "```"
      ]
    }
  ]
}